{
 "cells": [
  {
   "cell_type": "code",
   "execution_count": 1,
   "metadata": {},
   "outputs": [],
   "source": [
    "import albumentations as A\n",
    "import numpy as np\n",
    "import os\n",
    "import random\n",
    "import sys\n",
    "\n",
    "import torch\n",
    "import torch.nn.functional as F\n",
    "import torchvision\n",
    "import torchvision.transforms as T\n",
    "from torch import nn, Tensor, IntTensor, LongTensor, FloatTensor\n",
    "\n",
    "from functools import partial\n",
    "from omegaconf import DictConfig, OmegaConf\n",
    "from tqdm.notebook import tqdm\n",
    "from typing import Any, Callable, Dict, Iterable, List, Tuple"
   ]
  },
  {
   "cell_type": "code",
   "execution_count": 2,
   "metadata": {},
   "outputs": [],
   "source": [
    "import cv2\n",
    "import PIL\n",
    "import kornia"
   ]
  },
  {
   "cell_type": "code",
   "execution_count": 3,
   "metadata": {},
   "outputs": [],
   "source": [
    "os.environ['CUDA_VISIBLE_DEVICES'] = '1'"
   ]
  },
  {
   "cell_type": "code",
   "execution_count": 4,
   "metadata": {},
   "outputs": [],
   "source": [
    "BASE_DIR = '/home/dmitry/projects/dfdc'\n",
    "SRC_DIR = os.path.join(BASE_DIR, 'src')\n",
    "VID_DIR = '/media/dmitry/data/dfdc-videos/dfdc_train_part_38'"
   ]
  },
  {
   "cell_type": "code",
   "execution_count": 5,
   "metadata": {},
   "outputs": [],
   "source": [
    "sys.path.insert(0, f'/home/{os.environ[\"USER\"]}/projects/dfdc/vendors/Pytorch_Retinaface')\n",
    "from data import cfg_mnet, cfg_re50\n",
    "from layers.functions.prior_box import PriorBox\n",
    "from models.retinaface import RetinaFace\n",
    "from utils.nms.py_cpu_nms import py_cpu_nms"
   ]
  },
  {
   "cell_type": "code",
   "execution_count": 6,
   "metadata": {},
   "outputs": [],
   "source": [
    "sys.path.insert(0, SRC_DIR)\n",
    "sys.path.insert(0, './utils')\n",
    "from detectors.retinaface import init_detector, prepare_imgs, decode_batch\n",
    "from video import read_frames_cv2"
   ]
  },
  {
   "cell_type": "code",
   "execution_count": 7,
   "metadata": {},
   "outputs": [],
   "source": [
    "from visualise import show_images"
   ]
  },
  {
   "cell_type": "code",
   "execution_count": 8,
   "metadata": {},
   "outputs": [],
   "source": [
    "conf = OmegaConf.load('../config/predict.yaml')"
   ]
  },
  {
   "cell_type": "code",
   "execution_count": 9,
   "metadata": {},
   "outputs": [],
   "source": [
    "device = torch.device('cuda')"
   ]
  },
  {
   "cell_type": "code",
   "execution_count": 10,
   "metadata": {},
   "outputs": [],
   "source": [
    "def merge_detector_cfg(conf: DictConfig) -> Dict[str, any]:\n",
    "    cfg = cfg_mnet if conf.encoder == 'mnet' else cfg_re50\n",
    "    for key in \"batch_size, score_thresh, nms_thresh, top_k, keep_top_k\".split(\", \"):\n",
    "        if key not in conf or conf[key] is None:\n",
    "            raise AttributeError(\"Missing {} in detector config\".format(key))\n",
    "    cfg = {**cfg, **conf}\n",
    "    return cfg"
   ]
  },
  {
   "cell_type": "code",
   "execution_count": 11,
   "metadata": {
    "scrolled": true
   },
   "outputs": [
    {
     "name": "stdout",
     "output_type": "stream",
     "text": [
      "Loading pretrained model from /home/dmitry/projects/dfdc/data/weights/mobilenet0.25_Final.pth\n",
      "remove prefix 'module.'\n",
      "Missing keys:0\n",
      "Unused checkpoint keys:0\n",
      "Used keys:300\n"
     ]
    }
   ],
   "source": [
    "face_det_conf = merge_detector_cfg(conf['face-detection'])\n",
    "detector = init_detector(\n",
    "    face_det_conf, \n",
    "    face_det_conf['weights'], \n",
    "    device\n",
    ").to(device)\n",
    "# detect_fn = partial(detect, model=detector, cfg=face_det_conf, device=device)"
   ]
  },
  {
   "cell_type": "code",
   "execution_count": 12,
   "metadata": {},
   "outputs": [],
   "source": [
    "files = os.listdir(VID_DIR)"
   ]
  },
  {
   "cell_type": "code",
   "execution_count": 13,
   "metadata": {},
   "outputs": [],
   "source": [
    "path = os.path.join(VID_DIR, files[12])\n",
    "sample_np = read_frames_cv2(path, 30)\n",
    "sample_orig = torch.from_numpy(sample_np).to(device)\n",
    "\n",
    "D, H, W, C = sample_orig.shape"
   ]
  },
  {
   "cell_type": "code",
   "execution_count": 14,
   "metadata": {},
   "outputs": [
    {
     "data": {
      "text/plain": [
       "(torch.Size([30, 3, 1080, 1920]), tensor([1920, 1080, 1920, 1080]))"
      ]
     },
     "execution_count": 14,
     "metadata": {},
     "output_type": "execute_result"
    }
   ],
   "source": [
    "sample, scale = prepare_imgs(sample_orig)\n",
    "sample.shape, scale"
   ]
  },
  {
   "cell_type": "code",
   "execution_count": 17,
   "metadata": {},
   "outputs": [],
   "source": [
    "D, C, H, W = sample.shape\n",
    "priorbox = PriorBox(face_det_conf, image_size=(H, W))\n",
    "priors = priorbox.forward().to(device)\n",
    "scale = scale.to(device)"
   ]
  },
  {
   "cell_type": "code",
   "execution_count": 18,
   "metadata": {},
   "outputs": [],
   "source": [
    "with torch.no_grad():\n",
    "    locations, confidence, landmarks = detector(sample)"
   ]
  },
  {
   "cell_type": "code",
   "execution_count": 19,
   "metadata": {},
   "outputs": [],
   "source": [
    "def postproc_frame_torch(boxes: Tensor, scores: Tensor, conf: Dict[str, Any]) -> Tensor:\n",
    "    idxs = (scores > conf['score_thresh']).nonzero().squeeze_(1)\n",
    "    if idxs.size(0):\n",
    "        boxes = boxes[idxs]\n",
    "        scores = scores[idxs]\n",
    "\n",
    "        # keep top-K before NMS\n",
    "        top_k = conf['top_k']\n",
    "        scores, idxs = scores.sort(descending=True)\n",
    "        scores, idxs = scores[:top_k], idxs[:top_k]\n",
    "        boxes = boxes[idxs]\n",
    "\n",
    "        # do NMS\n",
    "        nms_thresh = conf['nms_thresh']\n",
    "        keep_top_k = conf['keep_top_k']\n",
    "        keep = torchvision.ops.nms(boxes, scores, nms_thresh)\n",
    "        boxes = boxes[keep][:keep_top_k]\n",
    "        scores = scores[keep][:keep_top_k]\n",
    "        scores = scores.unsqueeze_(1)\n",
    "        return torch.cat([boxes, scores], dim=1)\n",
    "    else:\n",
    "        return torch.empty(0, 5, device=boxes.device, dtype=torch.float32)\n",
    "\n",
    "\n",
    "def postproc_detections(locations: Tensor, confidence: Tensor, priors: Tensor, \n",
    "                        scale: Tensor, conf: Dict[str, any], resize=1) -> List[Tensor]:\n",
    "    boxes = decode_batch(locations, priors, conf['variance'])\n",
    "    boxes = boxes * scale / resize\n",
    "    scores = confidence[:, :, 1]\n",
    "    N = boxes.size(0)\n",
    "    out = []\n",
    "    for f in range(N):\n",
    "        boxes_f = postproc_frame_torch(boxes[f], scores[f], conf)\n",
    "        out.append(boxes_f)\n",
    "    return out"
   ]
  },
  {
   "cell_type": "code",
   "execution_count": 20,
   "metadata": {},
   "outputs": [],
   "source": [
    "dets = postproc_detections(locations, confidence, priors, scale, face_det_conf)"
   ]
  },
  {
   "cell_type": "code",
   "execution_count": 21,
   "metadata": {},
   "outputs": [],
   "source": [
    "resize = 1\n",
    "boxes = decode_batch(locations, priors, face_det_conf['variance'])\n",
    "boxes = boxes * scale / resize"
   ]
  },
  {
   "cell_type": "code",
   "execution_count": 22,
   "metadata": {},
   "outputs": [],
   "source": [
    "def calc_axis_torch(c0: IntTensor, c1: IntTensor, pad: IntTensor, \n",
    "                    cmax: int) -> Tuple[IntTensor, ...]:\n",
    "    c0 = max(0, c0 - pad)\n",
    "    c1 = min(cmax, c1 + pad)\n",
    "    return c0, c1, c1 - c0\n",
    "\n",
    "\n",
    "def expand_bbox_torch(bbox: FloatTensor, pct: float) -> FloatTensor:\n",
    "    bbox = bbox.clone().detach()\n",
    "    bbox[:2] *= 1 - pct\n",
    "    bbox[2:] *= 1 + pct\n",
    "    return bbox\n",
    "\n",
    "\n",
    "def fix_coords_torch(bbox: FloatTensor, img_width: int, img_height: int) -> Tuple[FloatTensor, ...]:    \n",
    "    x0, y0, x1, y1 = bbox.int()\n",
    "    x0.clamp_min_(0)\n",
    "    y0.clamp_min_(0)\n",
    "    x1.clamp_max_(img_width)\n",
    "    y1.clamp_max_(img_height)\n",
    "    return x0, y0, x1, y1\n",
    "\n",
    "\n",
    "def crop_square_torch(img: IntTensor, bbox: FloatTensor, pad_pct=0.05) -> IntTensor:\n",
    "    C, H, W = img.shape\n",
    "    if pad_pct > 0:\n",
    "        bbox = expand_bbox_torch(bbox, pad_pct)\n",
    "    x0, y0, x1, y1 = fix_coords_torch(bbox, W, H)\n",
    "    w, h = x1 - x0, y1 - y0\n",
    "    if w > h:\n",
    "        pad = (w - h) // 2\n",
    "        y0, y1, h = calc_axis_torch(y0, y1, pad, H)\n",
    "    elif h > w:\n",
    "        pad = (h - w) // 2\n",
    "        x0, x1, w = calc_axis_torch(x0, x1, pad, W)\n",
    "    size = min(w, h)\n",
    "    face = img[:, y0:y1, x0:x1][:, :size, :size]\n",
    "    return face"
   ]
  },
  {
   "cell_type": "code",
   "execution_count": 23,
   "metadata": {},
   "outputs": [
    {
     "data": {
      "text/plain": [
       "(torch.Size([30, 3, 1080, 1920]), 30)"
      ]
     },
     "execution_count": 23,
     "metadata": {},
     "output_type": "execute_result"
    }
   ],
   "source": [
    "sample.shape, len(dets)"
   ]
  },
  {
   "cell_type": "code",
   "execution_count": 30,
   "metadata": {},
   "outputs": [],
   "source": [
    "f = -1"
   ]
  },
  {
   "cell_type": "code",
   "execution_count": 32,
   "metadata": {},
   "outputs": [
    {
     "name": "stdout",
     "output_type": "stream",
     "text": [
      "torch.Size([3, 334, 334])\n"
     ]
    },
    {
     "data": {
      "image/png": "[encoded data removed]",
      "text/plain": [
       "<Figure size 432x288 with 1 Axes>"
      ]
     },
     "metadata": {
      "needs_background": "light"
     },
     "output_type": "display_data"
    }
   ],
   "source": [
    "f += 1\n",
    "crop = crop_square_torch(sample_orig[f].permute(2, 0, 1), dets[f][0, :4])\n",
    "print(crop.shape)\n",
    "crop1 = crop.cpu().numpy().transpose(1, 2, 0)\n",
    "show_images(crop1[None, :])"
   ]
  },
  {
   "cell_type": "code",
   "execution_count": 47,
   "metadata": {},
   "outputs": [],
   "source": [
    "from dataset.transforms import ResizeTensor, SpatialGradFilter"
   ]
  },
  {
   "cell_type": "code",
   "execution_count": 41,
   "metadata": {},
   "outputs": [],
   "source": [
    "resize = ResizeTensor(256, normalize=True)"
   ]
  },
  {
   "cell_type": "code",
   "execution_count": 44,
   "metadata": {},
   "outputs": [],
   "source": [
    "crop1 = resize(crop)"
   ]
  },
  {
   "cell_type": "code",
   "execution_count": 46,
   "metadata": {},
   "outputs": [
    {
     "data": {
      "text/plain": [
       "torch.Size([3, 256, 256])"
      ]
     },
     "execution_count": 46,
     "metadata": {},
     "output_type": "execute_result"
    }
   ],
   "source": [
    "crop1.shape"
   ]
  },
  {
   "cell_type": "code",
   "execution_count": 53,
   "metadata": {},
   "outputs": [],
   "source": [
    "pipe = T.Compose([\n",
    "    ResizeTensor(256),\n",
    "    SpatialGradFilter(3),\n",
    "    T.Normalize(mean=[0.5]*3, std=[0.5]*3)\n",
    "])"
   ]
  },
  {
   "cell_type": "code",
   "execution_count": 57,
   "metadata": {},
   "outputs": [],
   "source": [
    "files = list(map(lambda i: f'_{i}_', range(100)))"
   ]
  },
  {
   "cell_type": "code",
   "execution_count": 58,
   "metadata": {},
   "outputs": [],
   "source": [
    "import pandas as pd"
   ]
  },
  {
   "cell_type": "code",
   "execution_count": 67,
   "metadata": {},
   "outputs": [],
   "source": [
    "df = pd.DataFrame(files, columns=['filename'])\n",
    "df['label'] = 0.5"
   ]
  },
  {
   "cell_type": "code",
   "execution_count": 70,
   "metadata": {},
   "outputs": [],
   "source": [
    "df.loc[2, 'label'] = 2"
   ]
  },
  {
   "cell_type": "code",
   "execution_count": 71,
   "metadata": {},
   "outputs": [
    {
     "data": {
      "text/html": [
       "<div>\n",
       "<style scoped>\n",
       "    .dataframe tbody tr th:only-of-type {\n",
       "        vertical-align: middle;\n",
       "    }\n",
       "\n",
       "    .dataframe tbody tr th {\n",
       "        vertical-align: top;\n",
       "    }\n",
       "\n",
       "    .dataframe thead th {\n",
       "        text-align: right;\n",
       "    }\n",
       "</style>\n",
       "<table border=\"1\" class=\"dataframe\">\n",
       "  <thead>\n",
       "    <tr style=\"text-align: right;\">\n",
       "      <th></th>\n",
       "      <th>filename</th>\n",
       "      <th>label</th>\n",
       "    </tr>\n",
       "  </thead>\n",
       "  <tbody>\n",
       "    <tr>\n",
       "      <th>0</th>\n",
       "      <td>_0_</td>\n",
       "      <td>0.5</td>\n",
       "    </tr>\n",
       "    <tr>\n",
       "      <th>1</th>\n",
       "      <td>_1_</td>\n",
       "      <td>0.5</td>\n",
       "    </tr>\n",
       "    <tr>\n",
       "      <th>2</th>\n",
       "      <td>_2_</td>\n",
       "      <td>2.0</td>\n",
       "    </tr>\n",
       "    <tr>\n",
       "      <th>3</th>\n",
       "      <td>_3_</td>\n",
       "      <td>0.5</td>\n",
       "    </tr>\n",
       "    <tr>\n",
       "      <th>4</th>\n",
       "      <td>_4_</td>\n",
       "      <td>0.5</td>\n",
       "    </tr>\n",
       "  </tbody>\n",
       "</table>\n",
       "</div>"
      ],
      "text/plain": [
       "  filename  label\n",
       "0      _0_    0.5\n",
       "1      _1_    0.5\n",
       "2      _2_    2.0\n",
       "3      _3_    0.5\n",
       "4      _4_    0.5"
      ]
     },
     "execution_count": 71,
     "metadata": {},
     "output_type": "execute_result"
    }
   ],
   "source": [
    "df.head()"
   ]
  },
  {
   "cell_type": "code",
   "execution_count": 72,
   "metadata": {},
   "outputs": [],
   "source": [
    "df.to_csv('kek.csv', index=False)"
   ]
  },
  {
   "cell_type": "code",
   "execution_count": 81,
   "metadata": {},
   "outputs": [],
   "source": [
    "c = np.ones(30, dtype=np.uint8)\n",
    "c[range(0,20,2)] = 0"
   ]
  },
  {
   "cell_type": "code",
   "execution_count": 88,
   "metadata": {},
   "outputs": [],
   "source": [
    "a = [1,2,3,4,5,6,7,8,9,10]"
   ]
  }
 ],
 "metadata": {
  "kernelspec": {
   "display_name": "Python [conda env:kaggle] *",
   "language": "python",
   "name": "conda-env-kaggle-py"
  },
  "language_info": {
   "codemirror_mode": {
    "name": "ipython",
    "version": 3
   },
   "file_extension": ".py",
   "mimetype": "text/x-python",
   "name": "python",
   "nbconvert_exporter": "python",
   "pygments_lexer": "ipython3",
   "version": "3.6.10"
  }
 },
 "nbformat": 4,
 "nbformat_minor": 4
}
