{
 "cells": [
  {
   "cell_type": "code",
   "execution_count": 1,
   "metadata": {},
   "outputs": [],
   "source": [
    "import math\n",
    "import numpy as np\n",
    "import os\n",
    "import sys\n",
    "import time\n",
    "import torch\n",
    "import torch.nn as nn\n",
    "import torch.nn.functional as F\n",
    "\n",
    "from functools import partial\n",
    "from torch import FloatTensor, LongTensor, Tensor\n",
    "from torchvision import transforms as T\n",
    "from tqdm.notebook import tqdm\n",
    "from typing import Callable, Dict, Iterable, List, Optional, Tuple, Union"
   ]
  },
  {
   "cell_type": "code",
   "execution_count": 2,
   "metadata": {},
   "outputs": [],
   "source": [
    "BASE_DIR = '/home/dmitry/projects/dfdc'\n",
    "SRC_DIR = os.path.join(BASE_DIR, 'src')"
   ]
  },
  {
   "cell_type": "code",
   "execution_count": 3,
   "metadata": {},
   "outputs": [],
   "source": [
    "sys.path.insert(0, SRC_DIR)"
   ]
  },
  {
   "cell_type": "code",
   "execution_count": 4,
   "metadata": {},
   "outputs": [],
   "source": [
    "from model.zoo.common import encoder_block, decoder_block\n",
    "from model.layers import conv2D, conv3D, Lambda\n",
    "from model.loss import activation_loss\n",
    "from model.ops import act, identity, select, pool_gru"
   ]
  },
  {
   "cell_type": "code",
   "execution_count": 5,
   "metadata": {},
   "outputs": [],
   "source": [
    "h = torch.tensor([\n",
    "    [1,1,0,  1,1,0],\n",
    "    [0,0,0,  0,0,0],\n",
    "    [1,0,1,  0,1,0],\n",
    "    [1,1,1,  0,0,0],\n",
    "    [0,0,0,  1,1,1]\n",
    "], dtype=torch.float32, requires_grad=True)[:,:,None,None]\n",
    "\n",
    "y = torch.tensor([1, 0, 1, 0, 1])\n",
    "\n",
    "all_neg = torch.zeros(y.size(0), dtype=torch.int64)\n",
    "all_pos = torch.ones(y.size(0), dtype=torch.int64)"
   ]
  },
  {
   "cell_type": "code",
   "execution_count": 6,
   "metadata": {},
   "outputs": [
    {
     "data": {
      "text/plain": [
       "torch.Size([5, 6, 1, 1])"
      ]
     },
     "execution_count": 6,
     "metadata": {},
     "output_type": "execute_result"
    }
   ],
   "source": [
    "h.shape"
   ]
  },
  {
   "cell_type": "code",
   "execution_count": 7,
   "metadata": {},
   "outputs": [
    {
     "data": {
      "text/plain": [
       "tensor([[1., 1., 0., 1., 1., 0.],\n",
       "        [0., 0., 0., 0., 0., 0.],\n",
       "        [1., 0., 1., 0., 1., 0.],\n",
       "        [1., 1., 1., 0., 0., 0.],\n",
       "        [0., 0., 0., 1., 1., 1.]], grad_fn=<AsStridedBackward>)"
      ]
     },
     "execution_count": 7,
     "metadata": {},
     "output_type": "execute_result"
    }
   ],
   "source": [
    "h.reshape(5, 6)"
   ]
  },
  {
   "cell_type": "code",
   "execution_count": 8,
   "metadata": {},
   "outputs": [
    {
     "data": {
      "text/plain": [
       "tensor([[0., 0., 0., 1., 1., 0.],\n",
       "        [0., 0., 0., 0., 0., 0.],\n",
       "        [0., 0., 0., 0., 1., 0.],\n",
       "        [0., 0., 0., 0., 0., 0.],\n",
       "        [0., 0., 0., 1., 1., 1.]], grad_fn=<AsStridedBackward>)"
      ]
     },
     "execution_count": 8,
     "metadata": {},
     "output_type": "execute_result"
    }
   ],
   "source": [
    "select(h, all_pos).reshape(5, 6)"
   ]
  },
  {
   "cell_type": "code",
   "execution_count": 9,
   "metadata": {},
   "outputs": [
    {
     "data": {
      "text/plain": [
       "tensor([0.6667, 0.0000, 0.3333, 0.0000, 1.0000], grad_fn=<ClampMaxBackward>)"
      ]
     },
     "execution_count": 9,
     "metadata": {},
     "output_type": "execute_result"
    }
   ],
   "source": [
    "act(h, all_pos)"
   ]
  },
  {
   "cell_type": "code",
   "execution_count": 10,
   "metadata": {},
   "outputs": [
    {
     "data": {
      "text/plain": [
       "tensor([[1., 1., 0., 0., 0., 0.],\n",
       "        [0., 0., 0., 0., 0., 0.],\n",
       "        [1., 0., 1., 0., 0., 0.],\n",
       "        [1., 1., 1., 0., 0., 0.],\n",
       "        [0., 0., 0., 0., 0., 0.]], grad_fn=<AsStridedBackward>)"
      ]
     },
     "execution_count": 10,
     "metadata": {},
     "output_type": "execute_result"
    }
   ],
   "source": [
    "select(h, all_neg).reshape(5, 6)"
   ]
  },
  {
   "cell_type": "code",
   "execution_count": 11,
   "metadata": {},
   "outputs": [
    {
     "data": {
      "text/plain": [
       "tensor([0.6667, 0.0000, 0.6667, 1.0000, 0.0000], grad_fn=<ClampMaxBackward>)"
      ]
     },
     "execution_count": 11,
     "metadata": {},
     "output_type": "execute_result"
    }
   ],
   "source": [
    "act(h, all_neg)"
   ]
  },
  {
   "cell_type": "code",
   "execution_count": 12,
   "metadata": {},
   "outputs": [
    {
     "data": {
      "text/plain": [
       "True"
      ]
     },
     "execution_count": 12,
     "metadata": {},
     "output_type": "execute_result"
    }
   ],
   "source": [
    "(select(h, all_neg) + select(h, all_pos) == h).all().item()"
   ]
  },
  {
   "cell_type": "code",
   "execution_count": 13,
   "metadata": {},
   "outputs": [
    {
     "data": {
      "text/plain": [
       "tensor([1, 0, 1, 0, 1])"
      ]
     },
     "execution_count": 13,
     "metadata": {},
     "output_type": "execute_result"
    }
   ],
   "source": [
    "y"
   ]
  },
  {
   "cell_type": "code",
   "execution_count": 14,
   "metadata": {},
   "outputs": [
    {
     "data": {
      "text/plain": [
       "tensor([[0., 0., 0., 1., 1., 0.],\n",
       "        [0., 0., 0., 0., 0., 0.],\n",
       "        [0., 0., 0., 0., 1., 0.],\n",
       "        [1., 1., 1., 0., 0., 0.],\n",
       "        [0., 0., 0., 1., 1., 1.]], grad_fn=<AsStridedBackward>)"
      ]
     },
     "execution_count": 14,
     "metadata": {},
     "output_type": "execute_result"
    }
   ],
   "source": [
    "select(h, y).reshape(5, 6)"
   ]
  },
  {
   "cell_type": "code",
   "execution_count": 15,
   "metadata": {},
   "outputs": [
    {
     "data": {
      "text/plain": [
       "tensor([0.6667, 0.0000, 0.3333, 1.0000, 1.0000], grad_fn=<ClampMaxBackward>)"
      ]
     },
     "execution_count": 15,
     "metadata": {},
     "output_type": "execute_result"
    }
   ],
   "source": [
    "act(h, y)"
   ]
  },
  {
   "cell_type": "code",
   "execution_count": 16,
   "metadata": {},
   "outputs": [
    {
     "data": {
      "text/plain": [
       "True"
      ]
     },
     "execution_count": 16,
     "metadata": {},
     "output_type": "execute_result"
    }
   ],
   "source": [
    "(select(h, y) + select(h, (1-y)) == h).all().item()"
   ]
  },
  {
   "cell_type": "markdown",
   "metadata": {},
   "source": [
    "$$\n",
    "L_{ACT} =\n",
    "\\sum_{x ∈ S_0}\n",
    "|a_0(x) − 1| + |a_1(x)| +\n",
    "\\sum_{x ∈ S_1}\n",
    "|a_1(x) − 1| + |a_0(x)|\n",
    "$$"
   ]
  },
  {
   "cell_type": "code",
   "execution_count": 17,
   "metadata": {},
   "outputs": [
    {
     "data": {
      "text/plain": [
       "tensor(0.6667, grad_fn=<DivBackward0>)"
      ]
     },
     "execution_count": 17,
     "metadata": {},
     "output_type": "execute_result"
    }
   ],
   "source": [
    "activation_loss(h, y)"
   ]
  },
  {
   "cell_type": "code",
   "execution_count": 18,
   "metadata": {},
   "outputs": [],
   "source": [
    "device = torch.device('cuda:0')"
   ]
  },
  {
   "cell_type": "code",
   "execution_count": 19,
   "metadata": {},
   "outputs": [],
   "source": [
    "N, D, H, W = 2, 5, 128, 128\n",
    "\n",
    "x = torch.randn((N, 3, D, H, W)).to(device)\n",
    "y = torch.randint(2, (N,)).to(device)"
   ]
  },
  {
   "cell_type": "code",
   "execution_count": 20,
   "metadata": {},
   "outputs": [],
   "source": [
    "def affine(ch_in: int, ch_out: int):\n",
    "    return nn.Conv2d(ch_in, ch_out, kernel_size=1, padding=0, bias=False)\n",
    "\n",
    "\n",
    "class SpatialAttention(nn.Module):\n",
    "    def __init__(self, ch):\n",
    "        super(SpatialAttention, self).__init__()\n",
    "        # Channel multiplier\n",
    "        self.ch = ch\n",
    "        self.theta = affine(ch, ch//8)\n",
    "        self.phi   = affine(ch, ch//8)\n",
    "        self.g     = affine(ch, ch//2)\n",
    "        self.o     = affine(ch//2, ch)\n",
    "        # Learnable gain parameter\n",
    "        self.gamma = nn.Parameter(torch.tensor(0.), requires_grad=True)\n",
    "\n",
    "    def forward(self, x, y=None):\n",
    "        N, C, H, W = x.shape\n",
    "        ch = self.ch\n",
    "        \n",
    "        theta = self.theta(x)\n",
    "        phi = F.max_pool2d(self.phi(x), [2,2])\n",
    "        g = F.max_pool2d(self.g(x), [2,2])    \n",
    "        # Perform reshapes\n",
    "        theta = theta.view(-1, ch // 8, H * W)\n",
    "        phi = phi.view(-1, ch // 8, H * W // 4)\n",
    "        g = g.view(-1, ch // 2, H * W // 4)\n",
    "        # Matmul and softmax to get attention maps\n",
    "        beta = F.softmax(torch.bmm(theta.transpose(1, 2), phi), -1)\n",
    "        # Attention map times g path\n",
    "        o = self.o(torch.bmm(g, beta.transpose(1, 2)).view(-1, ch // 2, H, W))\n",
    "        return self.gamma * o + x"
   ]
  },
  {
   "cell_type": "code",
   "execution_count": 23,
   "metadata": {},
   "outputs": [],
   "source": [
    "def enc_layer(in_ch: int, out_ch: int, kernel=3, stride=1, \n",
    "              act_fn=nn.ReLU(inplace=True), zero_bn=False) -> nn.Module:\n",
    "    conv = conv2D(in_ch, out_ch, kernel=kernel, stride=stride, bias=False)\n",
    "    bn = nn.BatchNorm2d(out_ch)\n",
    "    nn.init.constant_(bn.weight, 0. if zero_bn else 1.)\n",
    "    layers = [conv, bn]\n",
    "    if act_fn is not None: \n",
    "        layers.append(act_fn)\n",
    "    return nn.Sequential(*layers)"
   ]
  },
  {
   "cell_type": "code",
   "execution_count": 24,
   "metadata": {},
   "outputs": [],
   "source": [
    "class EncoderBlock(nn.Module):\n",
    "    def __init__(self, in_ch: int, out_ch: int, h_ch: int):\n",
    "        super().__init__()\n",
    "        self.conv = nn.Sequential(\n",
    "            enc_layer(in_ch, h_ch, kernel=1),\n",
    "            enc_layer(h_ch, h_ch, kernel=3, stride=2),\n",
    "            enc_layer(h_ch, out_ch, kernel=1, zero_bn=True, act_fn=None))\n",
    "        self.idconv = nn.Sequential(\n",
    "            nn.AvgPool2d(2, stride=2),\n",
    "            enc_layer(in_ch, out_ch, kernel=1, act_fn=None))\n",
    "        \n",
    "    def forward(self, x):\n",
    "        x = self.conv(x) + self.idconv(x)\n",
    "        return torch.relu_(x)"
   ]
  },
  {
   "cell_type": "code",
   "execution_count": 25,
   "metadata": {},
   "outputs": [],
   "source": [
    "def upsample(scale: int):\n",
    "    return Lambda(partial(F.interpolate, scale_factor=scale, mode='nearest'))\n",
    "\n",
    "\n",
    "def dec_layer(in_ch: int, out_ch: int, kernel=3, scale=1, \n",
    "              act_fn=nn.ReLU(inplace=True), zero_bn=False) -> nn.Module:\n",
    "    layers = [upsample(scale)] if scale > 1 else []\n",
    "    conv = conv2D(in_ch, out_ch, kernel=kernel, stride=1, bias=False)\n",
    "    bn = nn.BatchNorm2d(out_ch)\n",
    "    nn.init.constant_(bn.weight, 0. if zero_bn else 1.)\n",
    "    layers += [conv, bn]\n",
    "    if act_fn is not None: \n",
    "        layers.append(act_fn)\n",
    "    return nn.Sequential(*layers)"
   ]
  },
  {
   "cell_type": "code",
   "execution_count": 26,
   "metadata": {},
   "outputs": [],
   "source": [
    "class DecoderBlock(nn.Module):\n",
    "    def __init__(self, in_ch: int, out_ch: int, h_ch: int):\n",
    "        super().__init__()\n",
    "        self.conv = nn.Sequential(\n",
    "            dec_layer(in_ch, h_ch, kernel=1),\n",
    "            dec_layer(h_ch, h_ch, kernel=3, scale=2),\n",
    "            dec_layer(h_ch, out_ch, kernel=1, zero_bn=True, act_fn=None))\n",
    "        self.idconv = dec_layer(in_ch, out_ch, kernel=1, scale=2, act_fn=None)\n",
    "        \n",
    "    def forward(self, x):\n",
    "        x = self.conv(x) + self.idconv(x)\n",
    "        return torch.relu_(x)"
   ]
  },
  {
   "cell_type": "code",
   "execution_count": 27,
   "metadata": {},
   "outputs": [],
   "source": [
    "def stack_enc_blocks(width: int, start: int, end: int, wide=False):\n",
    "    layers = []\n",
    "    for i in range(start, end):\n",
    "        in_ch = width * 2**i\n",
    "        out_ch = width * 2**(i+1)\n",
    "        h_ch = out_ch if wide else in_ch\n",
    "        block = EncoderBlock(in_ch, out_ch, h_ch)\n",
    "        layers.append(block)\n",
    "    return layers\n",
    "\n",
    "\n",
    "def stack_dec_blocks(width: int, start: int, end: int, wide=False):\n",
    "    layers = []\n",
    "    for i in sorted(range(start, end), reverse=True):\n",
    "        in_ch = width * 2**(i+1)\n",
    "        out_ch = width * 2**i\n",
    "        h_ch = in_ch if wide else out_ch\n",
    "        block = DecoderBlock(in_ch, out_ch, h_ch)\n",
    "        layers.append(block)\n",
    "    return layers"
   ]
  },
  {
   "cell_type": "code",
   "execution_count": 28,
   "metadata": {},
   "outputs": [],
   "source": [
    "class Samwise(nn.Module):\n",
    "    def __init__(self, image_shape: Tuple[int, int, int], width: int, \n",
    "                 enc_depth: int, aux_depth: int, p_drop=0.0, wide=False):\n",
    "        super(Samwise, self).__init__()\n",
    "        C, H, W = image_shape\n",
    "        if H != W:\n",
    "            raise AttributeError(\"Only square images are supported!\")\n",
    "            \n",
    "        max_depth = math.log2(H) + 1         \n",
    "        if enc_depth + aux_depth  > max_depth:\n",
    "            raise AttributeError(\n",
    "                f\"enc_depth + aux_depth should be <= {int(max_depth)} given the \"\n",
    "                f\"image_size ({H}, {H})\")\n",
    "            \n",
    "        if width % 2:\n",
    "            raise AttributeError(\"width must be even number\")\n",
    "        \n",
    "        stem = [conv2D(C, width), nn.ReLU(inplace=True)]\n",
    "        encoder = stack_enc_blocks(width, 0, enc_depth-1, wide=wide)\n",
    "        self.encoder = nn.Sequential(*stem, *encoder)\n",
    "        \n",
    "        decoder = stack_dec_blocks(width, 0, enc_depth-1, wide=wide)\n",
    "        dec_out = conv2D(width, C, kernel=3, stride=1)\n",
    "        self.decoder = nn.Sequential(*decoder, dec_out, nn.Tanh())\n",
    "        \n",
    "        for i in range(2):\n",
    "            aux_branch = stack_enc_blocks(\n",
    "                width//2, enc_depth-1, enc_depth-1 + aux_depth, wide=wide)\n",
    "            setattr(self, 'aux_{}'.format(i), nn.Sequential(*aux_branch))\n",
    "        \n",
    "        out_dim = width * 2**(enc_depth + aux_depth - 1)\n",
    "        self.aux_out = nn.Sequential(\n",
    "            nn.Dropout(p=p_drop),\n",
    "            nn.Linear(out_dim, 1, bias=False))\n",
    "\n",
    "    def forward(self, x: FloatTensor, y: LongTensor):\n",
    "        N, C, D, H, W = x.shape\n",
    "        hidden, x_rec, aux_0, aux_1 = [], [], [], []\n",
    "        \n",
    "        for f in range(D):\n",
    "            h = self.encoder(x[:, :, f])\n",
    "            hc = select(h, y)\n",
    "            x1 = self.decoder(hc)\n",
    "            \n",
    "            h0, h1 = torch.chunk(h, 2, dim=1)\n",
    "            a0 = self.aux_0(h0)\n",
    "            a1 = self.aux_1(h1)\n",
    "            \n",
    "            for val, arr in zip([h, x1, a0, a1], \n",
    "                                [hidden, x_rec, aux_0, aux_1]):\n",
    "                val = val.unsqueeze(2)\n",
    "                arr.append(val)\n",
    "            \n",
    "        hidden = torch.cat(hidden, dim=2)\n",
    "        x_rec = torch.cat(x_rec, dim=2)\n",
    "        aux_0 = reduce_frames(aux_0)\n",
    "        aux_1 = reduce_frames(aux_1)\n",
    "        aux = torch.cat([aux_0, aux_1], dim=1)\n",
    "        y_hat = self.aux_out(aux)\n",
    "        return hidden, x_rec, y_hat"
   ]
  },
  {
   "cell_type": "code",
   "execution_count": 29,
   "metadata": {},
   "outputs": [],
   "source": [
    "def reduce_frames(v: List[Tensor]) -> Tensor:\n",
    "    v = torch.cat(v, dim=2).flatten(2)\n",
    "    return v.mean(dim=2)"
   ]
  },
  {
   "cell_type": "code",
   "execution_count": 30,
   "metadata": {},
   "outputs": [],
   "source": [
    "N, D, H, W = 16, 10, 256, 256\n",
    "\n",
    "x = torch.randn((N, 3, D, H, W)).to(device)\n",
    "y = torch.randint(2, (N,)).to(device)"
   ]
  },
  {
   "cell_type": "code",
   "execution_count": 31,
   "metadata": {},
   "outputs": [],
   "source": [
    "sam = Samwise(\n",
    "    image_shape=(3, H, W), \n",
    "    width=8,\n",
    "    enc_depth=5,\n",
    "    aux_depth=3,\n",
    "    p_drop=0.1,\n",
    "    wide=False\n",
    ").to(device)"
   ]
  },
  {
   "cell_type": "code",
   "execution_count": 32,
   "metadata": {},
   "outputs": [],
   "source": [
    "out = sam(x, y)"
   ]
  },
  {
   "cell_type": "code",
   "execution_count": 33,
   "metadata": {},
   "outputs": [
    {
     "name": "stdout",
     "output_type": "stream",
     "text": [
      "x     | mean  0.000, std 1.000 | (16, 3, 10, 256, 256)\n",
      "h     | mean  0.397, std 0.585 | (16, 128, 10, 16, 16)\n",
      "x_hat | mean -0.070, std 0.535 | (16, 3, 10, 256, 256)\n",
      "y_hat | mean  0.311, std 0.098 | (16, 1)\n"
     ]
    }
   ],
   "source": [
    "for var, name in zip([x] + list(out), ['x', 'h', 'x_hat', 'y_hat']):\n",
    "    mean, std = var.mean().item(), var.std().item()\n",
    "    shape = ', '.join(map(str, var.shape))\n",
    "    print('{:5s} | mean {: .03f}, std {:.03f} | ({})'.format(name, mean, std, shape))"
   ]
  },
  {
   "cell_type": "code",
   "execution_count": 34,
   "metadata": {},
   "outputs": [
    {
     "ename": "ModuleNotFoundError",
     "evalue": "No module named 'crash_nb'",
     "output_type": "error",
     "traceback": [
      "\u001b[0;31m---------------------------------------------------------------------------\u001b[0m",
      "\u001b[0;31mModuleNotFoundError\u001b[0m                       Traceback (most recent call last)",
      "\u001b[0;32m<ipython-input-34-b6da322ed21e>\u001b[0m in \u001b[0;36m<module>\u001b[0;34m\u001b[0m\n\u001b[0;32m----> 1\u001b[0;31m \u001b[0;32mimport\u001b[0m \u001b[0mcrash_nb\u001b[0m\u001b[0;34m\u001b[0m\u001b[0;34m\u001b[0m\u001b[0m\n\u001b[0m",
      "\u001b[0;31mModuleNotFoundError\u001b[0m: No module named 'crash_nb'"
     ]
    }
   ],
   "source": [
    "import crash_nb"
   ]
  },
  {
   "cell_type": "code",
   "execution_count": null,
   "metadata": {},
   "outputs": [],
   "source": [
    "def build_enc_blocks(start_width: int, start: int, end: int, \n",
    "                     attention: Optional[List[int]] = None):\n",
    "    if attention is None:\n",
    "        attention = []\n",
    "    layers = []\n",
    "    for i in range(start, end):\n",
    "        in_ch = start_width * 2**i\n",
    "        out_ch = start_width * 2**(i+1)\n",
    "        if i in attention:\n",
    "            layers.append(SpatialAttention(in_ch))\n",
    "        layers.append(encoder_block(in_ch, out_ch))\n",
    "    return layers\n",
    "\n",
    "\n",
    "def build_dec_blocks(start_width: int, start: int, end: int, \n",
    "                     attention: Optional[List[int]] = None):\n",
    "    if attention is None:\n",
    "        attention = []\n",
    "    layers = []\n",
    "    for i in sorted(range(start, end), reverse=True):\n",
    "        in_ch = start_width * 2**(i+1)\n",
    "        out_ch = start_width * 2**i\n",
    "        layers.append(decoder_block(in_ch, out_ch))\n",
    "        if i in attention:\n",
    "            layers.append(SpatialAttention(out_ch))\n",
    "    return layers\n",
    "\n",
    "\n",
    "def reduce_frames(v: Tensor) -> Tensor:\n",
    "    v = torch.cat(v, dim=2).flatten(2)\n",
    "    return v.mean(dim=2)"
   ]
  },
  {
   "cell_type": "code",
   "execution_count": null,
   "metadata": {},
   "outputs": [],
   "source": [
    "class Frodo(nn.Module):\n",
    "    def __init__(self, image_shape: Tuple[int, int, int], width: int, \n",
    "                 enc_depth: int, aux_depth: int, p_drop: float,\n",
    "                 enc_attention: Optional[List[int]] = None, \n",
    "                 dec_attention: Optional[List[int]] = None):\n",
    "        super(Frodo, self).__init__()\n",
    "        C, H, W = image_shape\n",
    "        if H != W:\n",
    "            raise AttributeError(\"Only square images are supported!\")\n",
    "            \n",
    "        max_depth = math.log2(H) + 1         \n",
    "        if enc_depth + aux_depth  > max_depth:\n",
    "            raise AttributeError(\n",
    "                f\"enc_depth + aux_depth should be <= {int(max_depth)} given the \"\n",
    "                f\"image_size ({H}, {H})\")\n",
    "            \n",
    "        if width % 2:\n",
    "            raise AttributeError(\"width must be even number\")\n",
    "            \n",
    "        max_att = enc_depth - 2\n",
    "        if any(filter(lambda x: x > max_att, enc_attention + dec_attention)):\n",
    "            raise AttributeError(f\"Can't place attention higher than {max_att}\")\n",
    "        \n",
    "        stem = encoder_block(C, width, stride=1, bn=False)        \n",
    "        encoder = build_enc_blocks(width, 0, enc_depth - 1, enc_attention)\n",
    "        self.encoder = nn.Sequential(stem, *encoder)\n",
    "        \n",
    "        decoder = build_dec_blocks(width, 0, enc_depth - 1, dec_attention)\n",
    "        dec_out = conv2D(width, C, kernel=3, stride=1)\n",
    "        self.decoder = nn.Sequential(*decoder, dec_out, nn.Tanh())\n",
    "        \n",
    "        for i in range(2):\n",
    "            aux = build_enc_blocks(\n",
    "                width//2, enc_depth - 1, enc_depth - 1 + aux_depth, [])\n",
    "            aux_branch = nn.Sequential(*aux)\n",
    "            setattr(self, 'aux_{}'.format(i), aux_branch)\n",
    "        \n",
    "        out_dim = width * 2**(enc_depth + aux_depth - 1)\n",
    "        self.aux_out = nn.Sequential(\n",
    "            nn.Dropout(p=p_drop),\n",
    "            nn.Linear(out_dim, 1, bias=False))\n",
    "\n",
    "    def forward(self, x: FloatTensor, y: LongTensor):\n",
    "        N, C, D, H, W = x.shape\n",
    "        hidden, x_rec, aux_0, aux_1 = [], [], [], []\n",
    "        \n",
    "        for f in range(D):\n",
    "            h = self.encoder(x[:, :, f])\n",
    "            hc = select(h, y)\n",
    "            x1 = self.decoder(hc)\n",
    "            \n",
    "            h0, h1 = torch.chunk(h, 2, dim=1)\n",
    "            a0 = self.aux_0(h0)\n",
    "            a1 = self.aux_1(h1)\n",
    "            \n",
    "            for val, arr in zip([h, x1, a0, a1], \n",
    "                                [hidden, x_rec, aux_0, aux_1]):\n",
    "                val = val.unsqueeze(2)\n",
    "                arr.append(val)\n",
    "            \n",
    "        hidden = torch.cat(hidden, dim=2)\n",
    "        x_rec = torch.cat(x_rec, dim=2)\n",
    "        aux_0 = reduce_frames(aux_0)\n",
    "        aux_1 = reduce_frames(aux_1)\n",
    "        aux = torch.cat([aux_0, aux_1], dim=1)\n",
    "        y_hat = self.aux_out(aux)\n",
    "        return hidden, x_rec, y_hat"
   ]
  },
  {
   "cell_type": "code",
   "execution_count": null,
   "metadata": {},
   "outputs": [],
   "source": [
    "frodo = Frodo(\n",
    "    image_shape=(3, H, W), \n",
    "    width=8,\n",
    "    enc_depth=5,\n",
    "    aux_depth=3,\n",
    "    p_drop=0.1,\n",
    "    enc_attention=[0],\n",
    "    dec_attention=[0]\n",
    ").to(device)"
   ]
  },
  {
   "cell_type": "code",
   "execution_count": null,
   "metadata": {},
   "outputs": [],
   "source": [
    "out = frodo(x, y)"
   ]
  },
  {
   "cell_type": "code",
   "execution_count": null,
   "metadata": {},
   "outputs": [],
   "source": [
    "for var, name in zip([x] + list(out), ['x', 'h', 'x_hat', 'y_hat']):\n",
    "    mean, std = var.mean().item(), var.std().item()\n",
    "    shape = ', '.join(map(str, var.shape))\n",
    "    print('{:5s} | mean {: .03f}, std {:.03f} | ({})'.format(name, mean, std, shape))"
   ]
  }
 ],
 "metadata": {
  "kernelspec": {
   "display_name": "Python [conda env:kaggle] *",
   "language": "python",
   "name": "conda-env-kaggle-py"
  },
  "language_info": {
   "codemirror_mode": {
    "name": "ipython",
    "version": 3
   },
   "file_extension": ".py",
   "mimetype": "text/x-python",
   "name": "python",
   "nbconvert_exporter": "python",
   "pygments_lexer": "ipython3",
   "version": "3.6.10"
  }
 },
 "nbformat": 4,
 "nbformat_minor": 4
}
