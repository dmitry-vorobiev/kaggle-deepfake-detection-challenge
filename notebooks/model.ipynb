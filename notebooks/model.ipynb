{
 "cells": [
  {
   "cell_type": "code",
   "execution_count": 1,
   "metadata": {},
   "outputs": [],
   "source": [
    "from functools import partial\n",
    "\n",
    "import torch\n",
    "import torch.nn as nn\n",
    "from torch import Tensor\n",
    "\n",
    "import torch.nn.functional as F"
   ]
  },
  {
   "cell_type": "code",
   "execution_count": 2,
   "metadata": {},
   "outputs": [],
   "source": [
    "def enc_block(in_ch: int, out_ch: int, kernel_size=3, stride=2, bn=True):\n",
    "    conv = nn.Conv2d(in_ch, out_ch, kernel_size=kernel_size, \n",
    "                     stride=stride, padding=1)\n",
    "    relu = nn.ReLU(inplace=True)\n",
    "    if bn:\n",
    "        layers = [conv, nn.BatchNorm2d(out_ch), relu]\n",
    "    else:\n",
    "        layers = [conv, relu]\n",
    "    return nn.Sequential(*layers)"
   ]
  },
  {
   "cell_type": "code",
   "execution_count": 3,
   "metadata": {},
   "outputs": [],
   "source": [
    "class DecoderBlock(nn.Module):\n",
    "    def __init__(self, in_ch: int, out_ch: int, kernel_size=3, \n",
    "                 scale_factor=2, bn=True):\n",
    "        super().__init__()\n",
    "        self.upsample = partial(F.interpolate, \n",
    "                                scale_factor=scale_factor, \n",
    "                                mode='nearest')\n",
    "        conv = nn.Conv2d(in_ch, out_ch, kernel_size=kernel_size, \n",
    "                         stride=1, padding=1)\n",
    "        relu = nn.ReLU(inplace=True)\n",
    "        if bn:\n",
    "            layers = [conv, nn.BatchNorm2d(out_ch), relu]\n",
    "        else:\n",
    "            layers = [conv, relu]\n",
    "        self.layers = nn.Sequential(*layers)\n",
    "  \n",
    "    def forward(self, x):\n",
    "        x = self.upsample(x)\n",
    "        out = self.layers(x)\n",
    "        return out"
   ]
  },
  {
   "cell_type": "code",
   "execution_count": 4,
   "metadata": {},
   "outputs": [],
   "source": [
    "def select_block(x, y):\n",
    "    N, C, H, W = x.shape\n",
    "    half_C = C // 2\n",
    "\n",
    "    low  = half_C * y\n",
    "    high = half_C * (y + 1)\n",
    "\n",
    "    x = x.clone()\n",
    "    for i in range(N):\n",
    "        x[i, low[i]:high[i]] = 0\n",
    "    return x"
   ]
  },
  {
   "cell_type": "code",
   "execution_count": 5,
   "metadata": {},
   "outputs": [],
   "source": [
    "model = nn.Sequential(\n",
    "    enc_block(3, 8, stride=1, bn=False),\n",
    "    enc_block(8, 16),\n",
    "    enc_block(16, 32),\n",
    "    enc_block(32, 64),\n",
    "    enc_block(64, 128)\n",
    "#     DecoderBlock(32, 16),\n",
    "#     DecoderBlock(16, 8)\n",
    ")"
   ]
  },
  {
   "cell_type": "code",
   "execution_count": 6,
   "metadata": {},
   "outputs": [
    {
     "data": {
      "text/plain": [
       "torch.Size([1, 128, 16, 16])"
      ]
     },
     "execution_count": 6,
     "metadata": {},
     "output_type": "execute_result"
    }
   ],
   "source": [
    "x = torch.rand((1, 3, 256, 256))\n",
    "x1 = model(x)\n",
    "x1.shape"
   ]
  },
  {
   "cell_type": "code",
   "execution_count": 257,
   "metadata": {},
   "outputs": [],
   "source": [
    "def act(h: Tensor, y: Tensor, cls: int, eps=1e-7) -> Tensor:\n",
    "    h = h[y == cls].clone()\n",
    "    N, C, H, W = h.shape\n",
    "    \n",
    "    half_C = C // 2\n",
    "    low  = half_C * cls\n",
    "    high = half_C * (cls + 1)\n",
    "    \n",
    "    for i in range(N):\n",
    "        h[i, low:high] = 0\n",
    "        \n",
    "    n_el = h.numel() / max(1, N * 2)\n",
    "    act = h.abs().sum((1, 2, 3)) / n_el\n",
    "    return act"
   ]
  },
  {
   "cell_type": "code",
   "execution_count": 258,
   "metadata": {},
   "outputs": [
    {
     "data": {
      "text/plain": [
       "(tensor([1., 1.]), tensor([1.]))"
      ]
     },
     "execution_count": 258,
     "metadata": {},
     "output_type": "execute_result"
    }
   ],
   "source": [
    "h = torch.ones(3, 8, 1, 1)\n",
    "y = torch.tensor([1, 0, 0])\n",
    "\n",
    "act(h, y, 0), act(h, y, 1)"
   ]
  },
  {
   "cell_type": "markdown",
   "metadata": {},
   "source": [
    "$$\n",
    "L_{ACT} =\n",
    "\\sum_{x ∈ S_0}\n",
    "|a_0(x) − 1| + |a_1(x)| +\n",
    "\\sum_{x ∈ S_1}\n",
    "|a_1(x) − 1| + |a_0(x)|\n",
    "$$"
   ]
  },
  {
   "cell_type": "code",
   "execution_count": 259,
   "metadata": {},
   "outputs": [],
   "source": [
    "def act_loss(h: Tensor, y: Tensor) -> int:\n",
    "    pos = y.nonzero().reshape(-1)\n",
    "    neg = (y - 1).nonzero().reshape(-1)\n",
    "    h_neg, h_pos = h[neg], h[pos]\n",
    "    \n",
    "    neg_loss = (act(h_neg, y[neg], 0) - 1).abs().sum() + act(h_neg, y[pos], 1).sum()\n",
    "    pos_loss = (act(h_pos, y[pos], 1) - 1).abs().sum() + act(h_pos, y[neg], 0).sum()\n",
    "    print('0: {}'.format(neg_loss))\n",
    "    print('1: {}'.format(pos_loss))\n",
    "    return (neg_loss + pos_loss) / y.size(0)"
   ]
  },
  {
   "cell_type": "code",
   "execution_count": 284,
   "metadata": {},
   "outputs": [
    {
     "name": "stdout",
     "output_type": "stream",
     "text": [
      "0: 26.0\n",
      "1: 26.0\n"
     ]
    },
    {
     "data": {
      "text/plain": [
       "tensor(13.)"
      ]
     },
     "execution_count": 284,
     "metadata": {},
     "output_type": "execute_result"
    }
   ],
   "source": [
    "emb_size = 6\n",
    "\n",
    "h = torch.zeros(4, emb_size, 1, 1)\n",
    "y = torch.tensor([1, 0, 1, 0])\n",
    "\n",
    "pos = y.nonzero().reshape(-1)\n",
    "neg = (y - 1).nonzero().reshape(-1)\n",
    "\n",
    "# h[pos] = 0.2\n",
    "\n",
    "h[neg, emb_size//2:emb_size] = 0 # neg\n",
    "h[neg, 0:emb_size//2] = 12      # pos\n",
    "\n",
    "h[pos, emb_size//2:emb_size] = 12 # neg\n",
    "h[pos, 0:emb_size//2] = 0        # pos\n",
    "\n",
    "act_loss(h, y)"
   ]
  },
  {
   "cell_type": "code",
   "execution_count": 36,
   "metadata": {},
   "outputs": [
    {
     "data": {
      "text/plain": [
       "tensor([[1, 0, 0, 0],\n",
       "        [1, 1, 0, 0],\n",
       "        [1, 2, 0, 0],\n",
       "        [3, 0, 0, 0],\n",
       "        [3, 1, 0, 0],\n",
       "        [3, 2, 0, 0]])"
      ]
     },
     "execution_count": 36,
     "metadata": {},
     "output_type": "execute_result"
    }
   ],
   "source": [
    "h.nonzero()"
   ]
  },
  {
   "cell_type": "code",
   "execution_count": 58,
   "metadata": {},
   "outputs": [
    {
     "data": {
      "text/plain": [
       "tensor([0.2500, 0.0000, 0.2500, 0.0000])"
      ]
     },
     "execution_count": 58,
     "metadata": {},
     "output_type": "execute_result"
    }
   ],
   "source": [
    "act(h, 1)"
   ]
  }
 ],
 "metadata": {
  "kernelspec": {
   "display_name": "Python [conda env:kaggle] *",
   "language": "python",
   "name": "conda-env-kaggle-py"
  },
  "language_info": {
   "codemirror_mode": {
    "name": "ipython",
    "version": 3
   },
   "file_extension": ".py",
   "mimetype": "text/x-python",
   "name": "python",
   "nbconvert_exporter": "python",
   "pygments_lexer": "ipython3",
   "version": "3.6.10"
  }
 },
 "nbformat": 4,
 "nbformat_minor": 4
}
