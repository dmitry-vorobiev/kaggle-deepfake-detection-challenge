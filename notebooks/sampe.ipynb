{
 "cells": [
  {
   "cell_type": "code",
   "execution_count": 1,
   "metadata": {},
   "outputs": [],
   "source": [
    "import math\n",
    "import os\n",
    "import gc\n",
    "import sys\n",
    "import time\n",
    "\n",
    "from functools import partial\n",
    "from typing import Dict, List, Optional, Tuple, Union\n",
    "\n",
    "from numba import jit, njit\n",
    "from pathlib import Path\n",
    "from tqdm.notebook import tqdm"
   ]
  },
  {
   "cell_type": "code",
   "execution_count": 2,
   "metadata": {},
   "outputs": [],
   "source": [
    "BASE_DIR = '/home/dmitry/projects/dfdc'\n",
    "SRC_DIR = os.path.join(BASE_DIR, 'src')\n",
    "DATA_DIR = os.path.join(BASE_DIR, 'data/dfdc-videos')"
   ]
  },
  {
   "cell_type": "code",
   "execution_count": 3,
   "metadata": {},
   "outputs": [],
   "source": [
    "import numpy as np\n",
    "import pandas as pd\n",
    "import matplotlib.pyplot as plt\n",
    "\n",
    "import cv2\n",
    "\n",
    "import torch\n",
    "import torchvision\n",
    "\n",
    "from torch import Tensor\n",
    "from torchvision import ops\n",
    "\n",
    "import nvidia.dali as dali\n",
    "from nvidia.dali.plugin.pytorch import DALIGenericIterator\n",
    "\n",
    "# Pytorch_Retinaface\n",
    "sys.path.insert(0, os.path.join(BASE_DIR, 'vendors/Pytorch_Retinaface'))\n",
    "from data import cfg_mnet\n",
    "from layers.functions.prior_box import PriorBox\n",
    "from models.retinaface import RetinaFace\n",
    "from utils.nms.py_cpu_nms import py_cpu_nms\n",
    "\n",
    "# src\n",
    "sys.path.insert(0, SRC_DIR)\n",
    "from dataset.utils import read_labels\n",
    "from detectors.retinaface import load_model, postproc_detections"
   ]
  },
  {
   "cell_type": "code",
   "execution_count": 4,
   "metadata": {},
   "outputs": [],
   "source": [
    "from detectors.retinaface import init_detector, detect\n",
    "from image import crop_square\n",
    "from prepare_data import get_file_list, write_file_list\n",
    "from video import VideoPipe"
   ]
  },
  {
   "cell_type": "code",
   "execution_count": 5,
   "metadata": {},
   "outputs": [],
   "source": [
    "def show_image_bbox(img, boxes=None, figsize=(15,8)):\n",
    "    plt.figure(figsize=figsize)\n",
    "    if boxes is not None:\n",
    "        for bbox in boxes:\n",
    "            rect = plt.Rectangle(\n",
    "                (bbox[0], bbox[1]), \n",
    "                bbox[2] - bbox[0],\n",
    "                bbox[3] - bbox[1], fill=False,\n",
    "                edgecolor='r', linewidth=1)\n",
    "            if len(bbox) > 4:\n",
    "                text = plt.text(\n",
    "                    bbox[2]+10, bbox[1]-10, \n",
    "                    '%.02f' % bbox[4], color='r')\n",
    "            plt.gca().add_patch(rect)\n",
    "    plt.imshow(img)\n",
    "\n",
    "\n",
    "def show_images(images, cols = 1, titles = None):\n",
    "    \"\"\"Display a list of images in a single figure with matplotlib.\n",
    "    \n",
    "    Parameters\n",
    "    ---------\n",
    "    images: List of np.arrays compatible with plt.imshow.\n",
    "    \n",
    "    cols (Default = 1): Number of columns in figure (number of rows is \n",
    "                        set to np.ceil(n_images/float(cols))).\n",
    "    \n",
    "    titles: List of titles corresponding to each image. Must have\n",
    "            the same length as titles.\n",
    "    \"\"\"\n",
    "    assert((titles is None)or (len(images) == len(titles)))\n",
    "    n_images = len(images)\n",
    "    if titles is None: titles = ['Image (%d)' % i for i in range(1,n_images + 1)]\n",
    "    fig = plt.figure()\n",
    "    for n, (image, title) in enumerate(zip(images, titles)):\n",
    "        a = fig.add_subplot(cols, np.ceil(n_images/float(cols)), n + 1)\n",
    "        if image.ndim == 2:\n",
    "            plt.gray()\n",
    "        plt.imshow(image)\n",
    "        a.set_title(title)\n",
    "    fig.set_size_inches(np.array(fig.get_size_inches()) * n_images)\n",
    "    plt.show()"
   ]
  },
  {
   "cell_type": "code",
   "execution_count": 23,
   "metadata": {},
   "outputs": [
    {
     "name": "stdout",
     "output_type": "stream",
     "text": [
      "Loading pretrained model from /home/dmitry/projects/dfdc/data/weights/mobilenet0.25_Final.pth\n",
      "remove prefix 'module.'\n",
      "Missing keys:0\n",
      "Unused checkpoint keys:0\n",
      "Used keys:300\n"
     ]
    }
   ],
   "source": [
    "device = torch.device('cuda:1')\n",
    "cfg = {**cfg_mnet, 'batch_size': 30}\n",
    "weights = os.path.join(BASE_DIR, 'data/weights/mobilenet0.25_Final.pth')\n",
    "detector = init_detector(cfg, weights, False).to(device)\n",
    "detect_fn = partial(detect, model=detector, cfg=cfg, device=device)"
   ]
  },
  {
   "cell_type": "code",
   "execution_count": 7,
   "metadata": {},
   "outputs": [],
   "source": [
    "chunk_dirs = [f'dfdc_train_part_{i}' for i in range(9,10)]"
   ]
  },
  {
   "cell_type": "code",
   "execution_count": 8,
   "metadata": {},
   "outputs": [
    {
     "name": "stdout",
     "output_type": "stream",
     "text": [
      "(1736, 3)\n"
     ]
    }
   ],
   "source": [
    "df = read_labels(DATA_DIR, chunk_dirs=chunk_dirs)\n",
    "print(df.shape)"
   ]
  },
  {
   "cell_type": "code",
   "execution_count": 9,
   "metadata": {},
   "outputs": [
    {
     "data": {
      "text/plain": [
       "['/home/dmitry/projects/dfdc/data/dfdc-videos/dfdc_train_part_9/dsppvlvcom.mp4',\n",
       " '/home/dmitry/projects/dfdc/data/dfdc-videos/dfdc_train_part_9/xumrrieufz.mp4',\n",
       " '/home/dmitry/projects/dfdc/data/dfdc-videos/dfdc_train_part_9/zmgwqzewad.mp4',\n",
       " '/home/dmitry/projects/dfdc/data/dfdc-videos/dfdc_train_part_9/zqvbioegmr.mp4',\n",
       " '/home/dmitry/projects/dfdc/data/dfdc-videos/dfdc_train_part_9/koaythwkcn.mp4',\n",
       " '/home/dmitry/projects/dfdc/data/dfdc-videos/dfdc_train_part_9/vtmztrtrdy.mp4',\n",
       " '/home/dmitry/projects/dfdc/data/dfdc-videos/dfdc_train_part_9/veyarkmtry.mp4',\n",
       " '/home/dmitry/projects/dfdc/data/dfdc-videos/dfdc_train_part_9/potkccweye.mp4',\n",
       " '/home/dmitry/projects/dfdc/data/dfdc-videos/dfdc_train_part_9/cxfbhgmuyu.mp4',\n",
       " '/home/dmitry/projects/dfdc/data/dfdc-videos/dfdc_train_part_9/grielfiuwt.mp4',\n",
       " '/home/dmitry/projects/dfdc/data/dfdc-videos/dfdc_train_part_9/qazsmxyqru.mp4',\n",
       " '/home/dmitry/projects/dfdc/data/dfdc-videos/dfdc_train_part_9/glgpfbebcx.mp4',\n",
       " '/home/dmitry/projects/dfdc/data/dfdc-videos/dfdc_train_part_9/udxtaaipdt.mp4',\n",
       " '/home/dmitry/projects/dfdc/data/dfdc-videos/dfdc_train_part_9/yqcwvpwdpc.mp4',\n",
       " '/home/dmitry/projects/dfdc/data/dfdc-videos/dfdc_train_part_9/ugxmzszzyo.mp4',\n",
       " '/home/dmitry/projects/dfdc/data/dfdc-videos/dfdc_train_part_9/gtsusawepa.mp4',\n",
       " '/home/dmitry/projects/dfdc/data/dfdc-videos/dfdc_train_part_9/cnabiivwwt.mp4',\n",
       " '/home/dmitry/projects/dfdc/data/dfdc-videos/dfdc_train_part_9/rekbqaqdmg.mp4',\n",
       " '/home/dmitry/projects/dfdc/data/dfdc-videos/dfdc_train_part_9/ejyripvmvw.mp4',\n",
       " '/home/dmitry/projects/dfdc/data/dfdc-videos/dfdc_train_part_9/ketamuinxn.mp4',\n",
       " '/home/dmitry/projects/dfdc/data/dfdc-videos/dfdc_train_part_9/buhqsrexai.mp4',\n",
       " '/home/dmitry/projects/dfdc/data/dfdc-videos/dfdc_train_part_9/dnhhjzvbkh.mp4',\n",
       " '/home/dmitry/projects/dfdc/data/dfdc-videos/dfdc_train_part_9/dvbsanctxr.mp4',\n",
       " '/home/dmitry/projects/dfdc/data/dfdc-videos/dfdc_train_part_9/dpxuofgnjb.mp4',\n",
       " '/home/dmitry/projects/dfdc/data/dfdc-videos/dfdc_train_part_9/snmzmoioov.mp4',\n",
       " '/home/dmitry/projects/dfdc/data/dfdc-videos/dfdc_train_part_9/bluxihkxcz.mp4',\n",
       " '/home/dmitry/projects/dfdc/data/dfdc-videos/dfdc_train_part_9/onexxlxsob.mp4',\n",
       " '/home/dmitry/projects/dfdc/data/dfdc-videos/dfdc_train_part_9/vfhtavkckb.mp4',\n",
       " '/home/dmitry/projects/dfdc/data/dfdc-videos/dfdc_train_part_9/mwyczmwyyg.mp4',\n",
       " '/home/dmitry/projects/dfdc/data/dfdc-videos/dfdc_train_part_9/xxwuhluwte.mp4',\n",
       " '/home/dmitry/projects/dfdc/data/dfdc-videos/dfdc_train_part_9/rhwijorjsk.mp4',\n",
       " '/home/dmitry/projects/dfdc/data/dfdc-videos/dfdc_train_part_9/zaapxwklkm.mp4',\n",
       " '/home/dmitry/projects/dfdc/data/dfdc-videos/dfdc_train_part_9/nkjewulqox.mp4',\n",
       " '/home/dmitry/projects/dfdc/data/dfdc-videos/dfdc_train_part_9/jxpogbgibi.mp4',\n",
       " '/home/dmitry/projects/dfdc/data/dfdc-videos/dfdc_train_part_9/osqbtoddpd.mp4',\n",
       " '/home/dmitry/projects/dfdc/data/dfdc-videos/dfdc_train_part_9/rtlnmevktw.mp4',\n",
       " '/home/dmitry/projects/dfdc/data/dfdc-videos/dfdc_train_part_9/ilbzxkssci.mp4',\n",
       " '/home/dmitry/projects/dfdc/data/dfdc-videos/dfdc_train_part_9/rsezpbulme.mp4',\n",
       " '/home/dmitry/projects/dfdc/data/dfdc-videos/dfdc_train_part_9/wlvzyywbcr.mp4',\n",
       " '/home/dmitry/projects/dfdc/data/dfdc-videos/dfdc_train_part_9/dkeisysdhq.mp4',\n",
       " '/home/dmitry/projects/dfdc/data/dfdc-videos/dfdc_train_part_9/aplropqehb.mp4',\n",
       " '/home/dmitry/projects/dfdc/data/dfdc-videos/dfdc_train_part_9/mpyugohgsy.mp4',\n",
       " '/home/dmitry/projects/dfdc/data/dfdc-videos/dfdc_train_part_9/urpdwjsjkf.mp4',\n",
       " '/home/dmitry/projects/dfdc/data/dfdc-videos/dfdc_train_part_9/llevvlxjvs.mp4',\n",
       " '/home/dmitry/projects/dfdc/data/dfdc-videos/dfdc_train_part_9/ljcswtsdat.mp4',\n",
       " '/home/dmitry/projects/dfdc/data/dfdc-videos/dfdc_train_part_9/riqviyxuvz.mp4',\n",
       " '/home/dmitry/projects/dfdc/data/dfdc-videos/dfdc_train_part_9/cjetyhnwpr.mp4',\n",
       " '/home/dmitry/projects/dfdc/data/dfdc-videos/dfdc_train_part_9/zjzumoazqv.mp4',\n",
       " '/home/dmitry/projects/dfdc/data/dfdc-videos/dfdc_train_part_9/ibpsrkqhlj.mp4',\n",
       " '/home/dmitry/projects/dfdc/data/dfdc-videos/dfdc_train_part_9/njgpwosuoo.mp4',\n",
       " '/home/dmitry/projects/dfdc/data/dfdc-videos/dfdc_train_part_9/obtyjfkelk.mp4',\n",
       " '/home/dmitry/projects/dfdc/data/dfdc-videos/dfdc_train_part_9/rofdkzkxuf.mp4',\n",
       " '/home/dmitry/projects/dfdc/data/dfdc-videos/dfdc_train_part_9/nyxfiudflc.mp4',\n",
       " '/home/dmitry/projects/dfdc/data/dfdc-videos/dfdc_train_part_9/xuyovmzsza.mp4',\n",
       " '/home/dmitry/projects/dfdc/data/dfdc-videos/dfdc_train_part_9/tmuyidvvsa.mp4',\n",
       " '/home/dmitry/projects/dfdc/data/dfdc-videos/dfdc_train_part_9/awqhdmmuvx.mp4',\n",
       " '/home/dmitry/projects/dfdc/data/dfdc-videos/dfdc_train_part_9/iimisgnmhb.mp4',\n",
       " '/home/dmitry/projects/dfdc/data/dfdc-videos/dfdc_train_part_9/ryksgskunt.mp4',\n",
       " '/home/dmitry/projects/dfdc/data/dfdc-videos/dfdc_train_part_9/lnlmpwrafv.mp4',\n",
       " '/home/dmitry/projects/dfdc/data/dfdc-videos/dfdc_train_part_9/noerwsussl.mp4',\n",
       " '/home/dmitry/projects/dfdc/data/dfdc-videos/dfdc_train_part_9/pfmwpzpald.mp4',\n",
       " '/home/dmitry/projects/dfdc/data/dfdc-videos/dfdc_train_part_9/wmobvmntzu.mp4',\n",
       " '/home/dmitry/projects/dfdc/data/dfdc-videos/dfdc_train_part_9/bnwqrhwjmp.mp4',\n",
       " '/home/dmitry/projects/dfdc/data/dfdc-videos/dfdc_train_part_9/rqfxnalntb.mp4',\n",
       " '/home/dmitry/projects/dfdc/data/dfdc-videos/dfdc_train_part_9/krurqawrev.mp4',\n",
       " '/home/dmitry/projects/dfdc/data/dfdc-videos/dfdc_train_part_9/cmsfecvsiz.mp4',\n",
       " '/home/dmitry/projects/dfdc/data/dfdc-videos/dfdc_train_part_9/ihritenrlk.mp4',\n",
       " '/home/dmitry/projects/dfdc/data/dfdc-videos/dfdc_train_part_9/gwyvzkvvld.mp4',\n",
       " '/home/dmitry/projects/dfdc/data/dfdc-videos/dfdc_train_part_9/qfynmlqudk.mp4',\n",
       " '/home/dmitry/projects/dfdc/data/dfdc-videos/dfdc_train_part_9/xcutpnpfhy.mp4',\n",
       " '/home/dmitry/projects/dfdc/data/dfdc-videos/dfdc_train_part_9/srpasrmgxw.mp4',\n",
       " '/home/dmitry/projects/dfdc/data/dfdc-videos/dfdc_train_part_9/serwygnhiz.mp4',\n",
       " '/home/dmitry/projects/dfdc/data/dfdc-videos/dfdc_train_part_9/pkzawancce.mp4',\n",
       " '/home/dmitry/projects/dfdc/data/dfdc-videos/dfdc_train_part_9/gjoyzwhzlt.mp4',\n",
       " '/home/dmitry/projects/dfdc/data/dfdc-videos/dfdc_train_part_9/bfpeepmhhb.mp4',\n",
       " '/home/dmitry/projects/dfdc/data/dfdc-videos/dfdc_train_part_9/ppmvlauyfm.mp4',\n",
       " '/home/dmitry/projects/dfdc/data/dfdc-videos/dfdc_train_part_9/asngnptgeu.mp4',\n",
       " '/home/dmitry/projects/dfdc/data/dfdc-videos/dfdc_train_part_9/rebillzyow.mp4',\n",
       " '/home/dmitry/projects/dfdc/data/dfdc-videos/dfdc_train_part_9/vshhiqgozo.mp4',\n",
       " '/home/dmitry/projects/dfdc/data/dfdc-videos/dfdc_train_part_9/syzlazqkmp.mp4',\n",
       " '/home/dmitry/projects/dfdc/data/dfdc-videos/dfdc_train_part_9/wcsacsojke.mp4',\n",
       " '/home/dmitry/projects/dfdc/data/dfdc-videos/dfdc_train_part_9/lhwnchdcjc.mp4',\n",
       " '/home/dmitry/projects/dfdc/data/dfdc-videos/dfdc_train_part_9/cwrjhzvshd.mp4',\n",
       " '/home/dmitry/projects/dfdc/data/dfdc-videos/dfdc_train_part_9/lsaiadoutq.mp4',\n",
       " '/home/dmitry/projects/dfdc/data/dfdc-videos/dfdc_train_part_9/piwyvttekm.mp4',\n",
       " '/home/dmitry/projects/dfdc/data/dfdc-videos/dfdc_train_part_9/slncowaxxr.mp4',\n",
       " '/home/dmitry/projects/dfdc/data/dfdc-videos/dfdc_train_part_9/cexamjkjcm.mp4',\n",
       " '/home/dmitry/projects/dfdc/data/dfdc-videos/dfdc_train_part_9/vphollgrel.mp4',\n",
       " '/home/dmitry/projects/dfdc/data/dfdc-videos/dfdc_train_part_9/jbfubgwmwk.mp4',\n",
       " '/home/dmitry/projects/dfdc/data/dfdc-videos/dfdc_train_part_9/hhkglrisef.mp4',\n",
       " '/home/dmitry/projects/dfdc/data/dfdc-videos/dfdc_train_part_9/qoynaixfuu.mp4',\n",
       " '/home/dmitry/projects/dfdc/data/dfdc-videos/dfdc_train_part_9/idfslgsler.mp4',\n",
       " '/home/dmitry/projects/dfdc/data/dfdc-videos/dfdc_train_part_9/sfhkdfvfkc.mp4',\n",
       " '/home/dmitry/projects/dfdc/data/dfdc-videos/dfdc_train_part_9/beegfitfyr.mp4',\n",
       " '/home/dmitry/projects/dfdc/data/dfdc-videos/dfdc_train_part_9/kuhopynref.mp4',\n",
       " '/home/dmitry/projects/dfdc/data/dfdc-videos/dfdc_train_part_9/ksinwykitt.mp4',\n",
       " '/home/dmitry/projects/dfdc/data/dfdc-videos/dfdc_train_part_9/wxsfurwchm.mp4',\n",
       " '/home/dmitry/projects/dfdc/data/dfdc-videos/dfdc_train_part_9/mkbnkdnzoh.mp4',\n",
       " '/home/dmitry/projects/dfdc/data/dfdc-videos/dfdc_train_part_9/yzasourxza.mp4',\n",
       " '/home/dmitry/projects/dfdc/data/dfdc-videos/dfdc_train_part_9/gbcjmtrhap.mp4',\n",
       " '/home/dmitry/projects/dfdc/data/dfdc-videos/dfdc_train_part_9/pbvbnklkjk.mp4',\n",
       " '/home/dmitry/projects/dfdc/data/dfdc-videos/dfdc_train_part_9/bdwtgwbfkj.mp4',\n",
       " '/home/dmitry/projects/dfdc/data/dfdc-videos/dfdc_train_part_9/jinubpzyth.mp4',\n",
       " '/home/dmitry/projects/dfdc/data/dfdc-videos/dfdc_train_part_9/lhbrmieyng.mp4',\n",
       " '/home/dmitry/projects/dfdc/data/dfdc-videos/dfdc_train_part_9/rrzmmaqshj.mp4',\n",
       " '/home/dmitry/projects/dfdc/data/dfdc-videos/dfdc_train_part_9/siavketkir.mp4',\n",
       " '/home/dmitry/projects/dfdc/data/dfdc-videos/dfdc_train_part_9/jnqepyndcm.mp4',\n",
       " '/home/dmitry/projects/dfdc/data/dfdc-videos/dfdc_train_part_9/xrsxkkqxzw.mp4',\n",
       " '/home/dmitry/projects/dfdc/data/dfdc-videos/dfdc_train_part_9/ydqvbgbwup.mp4',\n",
       " '/home/dmitry/projects/dfdc/data/dfdc-videos/dfdc_train_part_9/xcfdidxani.mp4',\n",
       " '/home/dmitry/projects/dfdc/data/dfdc-videos/dfdc_train_part_9/zixngaurwv.mp4',\n",
       " '/home/dmitry/projects/dfdc/data/dfdc-videos/dfdc_train_part_9/biuqixndfy.mp4',\n",
       " '/home/dmitry/projects/dfdc/data/dfdc-videos/dfdc_train_part_9/qxttkmklex.mp4',\n",
       " '/home/dmitry/projects/dfdc/data/dfdc-videos/dfdc_train_part_9/ljtjjimyhr.mp4',\n",
       " '/home/dmitry/projects/dfdc/data/dfdc-videos/dfdc_train_part_9/tunskdvtlx.mp4',\n",
       " '/home/dmitry/projects/dfdc/data/dfdc-videos/dfdc_train_part_9/okfanujisw.mp4',\n",
       " '/home/dmitry/projects/dfdc/data/dfdc-videos/dfdc_train_part_9/dvlzmksoyf.mp4',\n",
       " '/home/dmitry/projects/dfdc/data/dfdc-videos/dfdc_train_part_9/jivmrkqgen.mp4',\n",
       " '/home/dmitry/projects/dfdc/data/dfdc-videos/dfdc_train_part_9/xrahxsyzqw.mp4',\n",
       " '/home/dmitry/projects/dfdc/data/dfdc-videos/dfdc_train_part_9/pegcpyymnc.mp4',\n",
       " '/home/dmitry/projects/dfdc/data/dfdc-videos/dfdc_train_part_9/wfihrxuczo.mp4',\n",
       " '/home/dmitry/projects/dfdc/data/dfdc-videos/dfdc_train_part_9/swdyoqnjtk.mp4',\n",
       " '/home/dmitry/projects/dfdc/data/dfdc-videos/dfdc_train_part_9/nspyimljof.mp4',\n",
       " '/home/dmitry/projects/dfdc/data/dfdc-videos/dfdc_train_part_9/zsrnjncbpl.mp4',\n",
       " '/home/dmitry/projects/dfdc/data/dfdc-videos/dfdc_train_part_9/eosotoxzsv.mp4',\n",
       " '/home/dmitry/projects/dfdc/data/dfdc-videos/dfdc_train_part_9/bhvssfromy.mp4',\n",
       " '/home/dmitry/projects/dfdc/data/dfdc-videos/dfdc_train_part_9/lrmtjcnaja.mp4',\n",
       " '/home/dmitry/projects/dfdc/data/dfdc-videos/dfdc_train_part_9/djixyfrtbj.mp4',\n",
       " '/home/dmitry/projects/dfdc/data/dfdc-videos/dfdc_train_part_9/qdfijwelsj.mp4',\n",
       " '/home/dmitry/projects/dfdc/data/dfdc-videos/dfdc_train_part_9/urvsslnhee.mp4',\n",
       " '/home/dmitry/projects/dfdc/data/dfdc-videos/dfdc_train_part_9/whapqyycva.mp4',\n",
       " '/home/dmitry/projects/dfdc/data/dfdc-videos/dfdc_train_part_9/xbanyawouv.mp4',\n",
       " '/home/dmitry/projects/dfdc/data/dfdc-videos/dfdc_train_part_9/rzqleunkcn.mp4',\n",
       " '/home/dmitry/projects/dfdc/data/dfdc-videos/dfdc_train_part_9/tlfhfylwez.mp4',\n",
       " '/home/dmitry/projects/dfdc/data/dfdc-videos/dfdc_train_part_9/pkxvjqmbkv.mp4',\n",
       " '/home/dmitry/projects/dfdc/data/dfdc-videos/dfdc_train_part_9/wleeubnujw.mp4',\n",
       " '/home/dmitry/projects/dfdc/data/dfdc-videos/dfdc_train_part_9/ambipnlmhm.mp4',\n",
       " '/home/dmitry/projects/dfdc/data/dfdc-videos/dfdc_train_part_9/lzkcuidkvz.mp4',\n",
       " '/home/dmitry/projects/dfdc/data/dfdc-videos/dfdc_train_part_9/rxfxbgehsi.mp4',\n",
       " '/home/dmitry/projects/dfdc/data/dfdc-videos/dfdc_train_part_9/wurzsvkseg.mp4',\n",
       " '/home/dmitry/projects/dfdc/data/dfdc-videos/dfdc_train_part_9/qhfjujfrio.mp4',\n",
       " '/home/dmitry/projects/dfdc/data/dfdc-videos/dfdc_train_part_9/nfvqyrztxb.mp4',\n",
       " '/home/dmitry/projects/dfdc/data/dfdc-videos/dfdc_train_part_9/kzixeyhhtx.mp4',\n",
       " '/home/dmitry/projects/dfdc/data/dfdc-videos/dfdc_train_part_9/shgkcjblvr.mp4',\n",
       " '/home/dmitry/projects/dfdc/data/dfdc-videos/dfdc_train_part_9/mlmeqtdknz.mp4',\n",
       " '/home/dmitry/projects/dfdc/data/dfdc-videos/dfdc_train_part_9/azoususkmj.mp4',\n",
       " '/home/dmitry/projects/dfdc/data/dfdc-videos/dfdc_train_part_9/pljjaouhdy.mp4',\n",
       " '/home/dmitry/projects/dfdc/data/dfdc-videos/dfdc_train_part_9/zpbhqridkr.mp4',\n",
       " '/home/dmitry/projects/dfdc/data/dfdc-videos/dfdc_train_part_9/fkdqwmkhrr.mp4',\n",
       " '/home/dmitry/projects/dfdc/data/dfdc-videos/dfdc_train_part_9/yssikhuetw.mp4',\n",
       " '/home/dmitry/projects/dfdc/data/dfdc-videos/dfdc_train_part_9/znlzegqkbp.mp4',\n",
       " '/home/dmitry/projects/dfdc/data/dfdc-videos/dfdc_train_part_9/rzytdiivhu.mp4',\n",
       " '/home/dmitry/projects/dfdc/data/dfdc-videos/dfdc_train_part_9/zzegrsgrjs.mp4',\n",
       " '/home/dmitry/projects/dfdc/data/dfdc-videos/dfdc_train_part_9/icffpvvtnu.mp4',\n",
       " '/home/dmitry/projects/dfdc/data/dfdc-videos/dfdc_train_part_9/nsxzkhwbph.mp4',\n",
       " '/home/dmitry/projects/dfdc/data/dfdc-videos/dfdc_train_part_9/suifcffkyo.mp4',\n",
       " '/home/dmitry/projects/dfdc/data/dfdc-videos/dfdc_train_part_9/vdcefzukbf.mp4',\n",
       " '/home/dmitry/projects/dfdc/data/dfdc-videos/dfdc_train_part_9/qzzasztgsp.mp4',\n",
       " '/home/dmitry/projects/dfdc/data/dfdc-videos/dfdc_train_part_9/sgmtuyhfic.mp4',\n",
       " '/home/dmitry/projects/dfdc/data/dfdc-videos/dfdc_train_part_9/pqywogwvke.mp4',\n",
       " '/home/dmitry/projects/dfdc/data/dfdc-videos/dfdc_train_part_9/ucidfsqdkw.mp4',\n",
       " '/home/dmitry/projects/dfdc/data/dfdc-videos/dfdc_train_part_9/dhprsxhlmn.mp4',\n",
       " '/home/dmitry/projects/dfdc/data/dfdc-videos/dfdc_train_part_9/vlvcubglaq.mp4',\n",
       " '/home/dmitry/projects/dfdc/data/dfdc-videos/dfdc_train_part_9/xrjnixtgfo.mp4',\n",
       " '/home/dmitry/projects/dfdc/data/dfdc-videos/dfdc_train_part_9/nectisitzm.mp4',\n",
       " '/home/dmitry/projects/dfdc/data/dfdc-videos/dfdc_train_part_9/fyihsitmmr.mp4',\n",
       " '/home/dmitry/projects/dfdc/data/dfdc-videos/dfdc_train_part_9/ftpadowrdf.mp4',\n",
       " '/home/dmitry/projects/dfdc/data/dfdc-videos/dfdc_train_part_9/ckemvkadqt.mp4',\n",
       " '/home/dmitry/projects/dfdc/data/dfdc-videos/dfdc_train_part_9/ftnteolhjr.mp4',\n",
       " '/home/dmitry/projects/dfdc/data/dfdc-videos/dfdc_train_part_9/jyhgclktzs.mp4',\n",
       " '/home/dmitry/projects/dfdc/data/dfdc-videos/dfdc_train_part_9/lrqkvwkcnp.mp4',\n",
       " '/home/dmitry/projects/dfdc/data/dfdc-videos/dfdc_train_part_9/ntnvgzqntw.mp4',\n",
       " '/home/dmitry/projects/dfdc/data/dfdc-videos/dfdc_train_part_9/mhpavogfxb.mp4',\n",
       " '/home/dmitry/projects/dfdc/data/dfdc-videos/dfdc_train_part_9/tqmlqemsqb.mp4',\n",
       " '/home/dmitry/projects/dfdc/data/dfdc-videos/dfdc_train_part_9/nxvsxhmyyc.mp4',\n",
       " '/home/dmitry/projects/dfdc/data/dfdc-videos/dfdc_train_part_9/xidossyjwx.mp4',\n",
       " '/home/dmitry/projects/dfdc/data/dfdc-videos/dfdc_train_part_9/ltiekbqamw.mp4',\n",
       " '/home/dmitry/projects/dfdc/data/dfdc-videos/dfdc_train_part_9/qxkhbvpomm.mp4',\n",
       " '/home/dmitry/projects/dfdc/data/dfdc-videos/dfdc_train_part_9/yxgljheoyy.mp4',\n",
       " '/home/dmitry/projects/dfdc/data/dfdc-videos/dfdc_train_part_9/wadgdooqpl.mp4',\n",
       " '/home/dmitry/projects/dfdc/data/dfdc-videos/dfdc_train_part_9/wwwbocaabd.mp4']"
      ]
     },
     "execution_count": 9,
     "metadata": {},
     "output_type": "execute_result"
    }
   ],
   "source": [
    "files = get_file_list(df, 1555, 1900, DATA_DIR)\n",
    "files"
   ]
  },
  {
   "cell_type": "code",
   "execution_count": 10,
   "metadata": {},
   "outputs": [
    {
     "data": {
      "text/plain": [
       "(181, 181)"
      ]
     },
     "execution_count": 10,
     "metadata": {},
     "output_type": "execute_result"
    }
   ],
   "source": [
    "write_file_list(files, path='temp.txt')\n",
    "\n",
    "pipe = VideoPipe('temp.txt', seq_len=30, stride=10, device_id=1, num_threads=1)\n",
    "pipe.build()\n",
    "num_samples = len(files)\n",
    "num_samples_read = pipe.epoch_size('reader')\n",
    "\n",
    "num_samples, num_samples_read"
   ]
  },
  {
   "cell_type": "code",
   "execution_count": 18,
   "metadata": {},
   "outputs": [
    {
     "data": {
      "text/plain": [
       "(6,\n",
       " '/home/dmitry/projects/dfdc/data/dfdc-videos/dfdc_train_part_9/veyarkmtry.mp4',\n",
       " (1, 30, 2560, 1440, 3))"
      ]
     },
     "execution_count": 18,
     "metadata": {},
     "output_type": "execute_result"
    }
   ],
   "source": [
    "pipe_out = pipe.run()\n",
    "frames = pipe_out[0].as_cpu().as_array()\n",
    "idx = pipe_out[1].as_cpu().as_array().item()\n",
    "idx, files[idx], frames.shape"
   ]
  },
  {
   "cell_type": "code",
   "execution_count": 25,
   "metadata": {},
   "outputs": [
    {
     "ename": "RuntimeError",
     "evalue": "CUDA out of memory. Tried to allocate 1.65 GiB (GPU 1; 10.92 GiB total capacity; 3.71 GiB already allocated; 1.57 GiB free; 610.59 MiB cached)",
     "output_type": "error",
     "traceback": [
      "\u001b[0;31m---------------------------------------------------------------------------\u001b[0m",
      "\u001b[0;31mRuntimeError\u001b[0m                              Traceback (most recent call last)",
      "\u001b[0;32m<ipython-input-25-53adafd924c3>\u001b[0m in \u001b[0;36m<module>\u001b[0;34m\u001b[0m\n\u001b[0;32m----> 1\u001b[0;31m \u001b[0mdets\u001b[0m \u001b[0;34m=\u001b[0m \u001b[0mdetect_fn\u001b[0m\u001b[0;34m(\u001b[0m\u001b[0mframes\u001b[0m\u001b[0;34m[\u001b[0m\u001b[0;36m0\u001b[0m\u001b[0;34m]\u001b[0m\u001b[0;34m)\u001b[0m\u001b[0;34m\u001b[0m\u001b[0;34m\u001b[0m\u001b[0m\n\u001b[0m",
      "\u001b[0;32m~/projects/dfdc/src/detectors/retinaface.py\u001b[0m in \u001b[0;36mdetect\u001b[0;34m(sample, model, cfg, device)\u001b[0m\n\u001b[1;32m     24\u001b[0m         \u001b[0mimgs_batch\u001b[0m \u001b[0;34m=\u001b[0m \u001b[0mimgs\u001b[0m\u001b[0;34m[\u001b[0m\u001b[0mstart\u001b[0m\u001b[0;34m:\u001b[0m\u001b[0mend\u001b[0m\u001b[0;34m]\u001b[0m\u001b[0;34m.\u001b[0m\u001b[0mto\u001b[0m\u001b[0;34m(\u001b[0m\u001b[0mdevice\u001b[0m\u001b[0;34m)\u001b[0m\u001b[0;34m\u001b[0m\u001b[0;34m\u001b[0m\u001b[0m\n\u001b[1;32m     25\u001b[0m         \u001b[0;32mwith\u001b[0m \u001b[0mtorch\u001b[0m\u001b[0;34m.\u001b[0m\u001b[0mno_grad\u001b[0m\u001b[0;34m(\u001b[0m\u001b[0;34m)\u001b[0m\u001b[0;34m:\u001b[0m\u001b[0;34m\u001b[0m\u001b[0;34m\u001b[0m\u001b[0m\n\u001b[0;32m---> 26\u001b[0;31m             \u001b[0mloc\u001b[0m\u001b[0;34m,\u001b[0m \u001b[0mconf\u001b[0m\u001b[0;34m,\u001b[0m \u001b[0mlandms\u001b[0m \u001b[0;34m=\u001b[0m \u001b[0mmodel\u001b[0m\u001b[0;34m(\u001b[0m\u001b[0mimgs_batch\u001b[0m\u001b[0;34m)\u001b[0m\u001b[0;34m\u001b[0m\u001b[0;34m\u001b[0m\u001b[0m\n\u001b[0m\u001b[1;32m     27\u001b[0m         \u001b[0mimgs_batch\u001b[0m\u001b[0;34m,\u001b[0m \u001b[0mlandms\u001b[0m \u001b[0;34m=\u001b[0m \u001b[0;32mNone\u001b[0m\u001b[0;34m,\u001b[0m \u001b[0;32mNone\u001b[0m\u001b[0;34m\u001b[0m\u001b[0;34m\u001b[0m\u001b[0m\n\u001b[1;32m     28\u001b[0m         \u001b[0mdets\u001b[0m \u001b[0;34m=\u001b[0m \u001b[0mpostproc_detections\u001b[0m\u001b[0;34m(\u001b[0m\u001b[0mloc\u001b[0m\u001b[0;34m,\u001b[0m \u001b[0mconf\u001b[0m\u001b[0;34m,\u001b[0m \u001b[0mpriors\u001b[0m\u001b[0;34m,\u001b[0m \u001b[0mscale\u001b[0m\u001b[0;34m,\u001b[0m \u001b[0mcfg\u001b[0m\u001b[0;34m)\u001b[0m\u001b[0;34m\u001b[0m\u001b[0;34m\u001b[0m\u001b[0m\n",
      "\u001b[0;32m~/.local/lib/python3.6/site-packages/torch/nn/modules/module.py\u001b[0m in \u001b[0;36m__call__\u001b[0;34m(self, *input, **kwargs)\u001b[0m\n\u001b[1;32m    539\u001b[0m             \u001b[0mresult\u001b[0m \u001b[0;34m=\u001b[0m \u001b[0mself\u001b[0m\u001b[0;34m.\u001b[0m\u001b[0m_slow_forward\u001b[0m\u001b[0;34m(\u001b[0m\u001b[0;34m*\u001b[0m\u001b[0minput\u001b[0m\u001b[0;34m,\u001b[0m \u001b[0;34m**\u001b[0m\u001b[0mkwargs\u001b[0m\u001b[0;34m)\u001b[0m\u001b[0;34m\u001b[0m\u001b[0;34m\u001b[0m\u001b[0m\n\u001b[1;32m    540\u001b[0m         \u001b[0;32melse\u001b[0m\u001b[0;34m:\u001b[0m\u001b[0;34m\u001b[0m\u001b[0;34m\u001b[0m\u001b[0m\n\u001b[0;32m--> 541\u001b[0;31m             \u001b[0mresult\u001b[0m \u001b[0;34m=\u001b[0m \u001b[0mself\u001b[0m\u001b[0;34m.\u001b[0m\u001b[0mforward\u001b[0m\u001b[0;34m(\u001b[0m\u001b[0;34m*\u001b[0m\u001b[0minput\u001b[0m\u001b[0;34m,\u001b[0m \u001b[0;34m**\u001b[0m\u001b[0mkwargs\u001b[0m\u001b[0;34m)\u001b[0m\u001b[0;34m\u001b[0m\u001b[0;34m\u001b[0m\u001b[0m\n\u001b[0m\u001b[1;32m    542\u001b[0m         \u001b[0;32mfor\u001b[0m \u001b[0mhook\u001b[0m \u001b[0;32min\u001b[0m \u001b[0mself\u001b[0m\u001b[0;34m.\u001b[0m\u001b[0m_forward_hooks\u001b[0m\u001b[0;34m.\u001b[0m\u001b[0mvalues\u001b[0m\u001b[0;34m(\u001b[0m\u001b[0;34m)\u001b[0m\u001b[0;34m:\u001b[0m\u001b[0;34m\u001b[0m\u001b[0;34m\u001b[0m\u001b[0m\n\u001b[1;32m    543\u001b[0m             \u001b[0mhook_result\u001b[0m \u001b[0;34m=\u001b[0m \u001b[0mhook\u001b[0m\u001b[0;34m(\u001b[0m\u001b[0mself\u001b[0m\u001b[0;34m,\u001b[0m \u001b[0minput\u001b[0m\u001b[0;34m,\u001b[0m \u001b[0mresult\u001b[0m\u001b[0;34m)\u001b[0m\u001b[0;34m\u001b[0m\u001b[0;34m\u001b[0m\u001b[0m\n",
      "\u001b[0;32m~/projects/dfdc/vendors/Pytorch_Retinaface/models/retinaface.py\u001b[0m in \u001b[0;36mforward\u001b[0;34m(self, inputs)\u001b[0m\n\u001b[1;32m    106\u001b[0m \u001b[0;34m\u001b[0m\u001b[0m\n\u001b[1;32m    107\u001b[0m     \u001b[0;32mdef\u001b[0m \u001b[0mforward\u001b[0m\u001b[0;34m(\u001b[0m\u001b[0mself\u001b[0m\u001b[0;34m,\u001b[0m\u001b[0minputs\u001b[0m\u001b[0;34m)\u001b[0m\u001b[0;34m:\u001b[0m\u001b[0;34m\u001b[0m\u001b[0;34m\u001b[0m\u001b[0m\n\u001b[0;32m--> 108\u001b[0;31m         \u001b[0mout\u001b[0m \u001b[0;34m=\u001b[0m \u001b[0mself\u001b[0m\u001b[0;34m.\u001b[0m\u001b[0mbody\u001b[0m\u001b[0;34m(\u001b[0m\u001b[0minputs\u001b[0m\u001b[0;34m)\u001b[0m\u001b[0;34m\u001b[0m\u001b[0;34m\u001b[0m\u001b[0m\n\u001b[0m\u001b[1;32m    109\u001b[0m \u001b[0;34m\u001b[0m\u001b[0m\n\u001b[1;32m    110\u001b[0m         \u001b[0;31m# FPN\u001b[0m\u001b[0;34m\u001b[0m\u001b[0;34m\u001b[0m\u001b[0;34m\u001b[0m\u001b[0m\n",
      "\u001b[0;32m~/.local/lib/python3.6/site-packages/torch/nn/modules/module.py\u001b[0m in \u001b[0;36m__call__\u001b[0;34m(self, *input, **kwargs)\u001b[0m\n\u001b[1;32m    539\u001b[0m             \u001b[0mresult\u001b[0m \u001b[0;34m=\u001b[0m \u001b[0mself\u001b[0m\u001b[0;34m.\u001b[0m\u001b[0m_slow_forward\u001b[0m\u001b[0;34m(\u001b[0m\u001b[0;34m*\u001b[0m\u001b[0minput\u001b[0m\u001b[0;34m,\u001b[0m \u001b[0;34m**\u001b[0m\u001b[0mkwargs\u001b[0m\u001b[0;34m)\u001b[0m\u001b[0;34m\u001b[0m\u001b[0;34m\u001b[0m\u001b[0m\n\u001b[1;32m    540\u001b[0m         \u001b[0;32melse\u001b[0m\u001b[0;34m:\u001b[0m\u001b[0;34m\u001b[0m\u001b[0;34m\u001b[0m\u001b[0m\n\u001b[0;32m--> 541\u001b[0;31m             \u001b[0mresult\u001b[0m \u001b[0;34m=\u001b[0m \u001b[0mself\u001b[0m\u001b[0;34m.\u001b[0m\u001b[0mforward\u001b[0m\u001b[0;34m(\u001b[0m\u001b[0;34m*\u001b[0m\u001b[0minput\u001b[0m\u001b[0;34m,\u001b[0m \u001b[0;34m**\u001b[0m\u001b[0mkwargs\u001b[0m\u001b[0;34m)\u001b[0m\u001b[0;34m\u001b[0m\u001b[0;34m\u001b[0m\u001b[0m\n\u001b[0m\u001b[1;32m    542\u001b[0m         \u001b[0;32mfor\u001b[0m \u001b[0mhook\u001b[0m \u001b[0;32min\u001b[0m \u001b[0mself\u001b[0m\u001b[0;34m.\u001b[0m\u001b[0m_forward_hooks\u001b[0m\u001b[0;34m.\u001b[0m\u001b[0mvalues\u001b[0m\u001b[0;34m(\u001b[0m\u001b[0;34m)\u001b[0m\u001b[0;34m:\u001b[0m\u001b[0;34m\u001b[0m\u001b[0;34m\u001b[0m\u001b[0m\n\u001b[1;32m    543\u001b[0m             \u001b[0mhook_result\u001b[0m \u001b[0;34m=\u001b[0m \u001b[0mhook\u001b[0m\u001b[0;34m(\u001b[0m\u001b[0mself\u001b[0m\u001b[0;34m,\u001b[0m \u001b[0minput\u001b[0m\u001b[0;34m,\u001b[0m \u001b[0mresult\u001b[0m\u001b[0;34m)\u001b[0m\u001b[0;34m\u001b[0m\u001b[0;34m\u001b[0m\u001b[0m\n",
      "\u001b[0;32m~/.local/lib/python3.6/site-packages/torchvision/models/_utils.py\u001b[0m in \u001b[0;36mforward\u001b[0;34m(self, x)\u001b[0m\n\u001b[1;32m     56\u001b[0m         \u001b[0mout\u001b[0m \u001b[0;34m=\u001b[0m \u001b[0mOrderedDict\u001b[0m\u001b[0;34m(\u001b[0m\u001b[0;34m)\u001b[0m\u001b[0;34m\u001b[0m\u001b[0;34m\u001b[0m\u001b[0m\n\u001b[1;32m     57\u001b[0m         \u001b[0;32mfor\u001b[0m \u001b[0mname\u001b[0m\u001b[0;34m,\u001b[0m \u001b[0mmodule\u001b[0m \u001b[0;32min\u001b[0m \u001b[0mself\u001b[0m\u001b[0;34m.\u001b[0m\u001b[0mnamed_children\u001b[0m\u001b[0;34m(\u001b[0m\u001b[0;34m)\u001b[0m\u001b[0;34m:\u001b[0m\u001b[0;34m\u001b[0m\u001b[0;34m\u001b[0m\u001b[0m\n\u001b[0;32m---> 58\u001b[0;31m             \u001b[0mx\u001b[0m \u001b[0;34m=\u001b[0m \u001b[0mmodule\u001b[0m\u001b[0;34m(\u001b[0m\u001b[0mx\u001b[0m\u001b[0;34m)\u001b[0m\u001b[0;34m\u001b[0m\u001b[0;34m\u001b[0m\u001b[0m\n\u001b[0m\u001b[1;32m     59\u001b[0m             \u001b[0;32mif\u001b[0m \u001b[0mname\u001b[0m \u001b[0;32min\u001b[0m \u001b[0mself\u001b[0m\u001b[0;34m.\u001b[0m\u001b[0mreturn_layers\u001b[0m\u001b[0;34m:\u001b[0m\u001b[0;34m\u001b[0m\u001b[0;34m\u001b[0m\u001b[0m\n\u001b[1;32m     60\u001b[0m                 \u001b[0mout_name\u001b[0m \u001b[0;34m=\u001b[0m \u001b[0mself\u001b[0m\u001b[0;34m.\u001b[0m\u001b[0mreturn_layers\u001b[0m\u001b[0;34m[\u001b[0m\u001b[0mname\u001b[0m\u001b[0;34m]\u001b[0m\u001b[0;34m\u001b[0m\u001b[0;34m\u001b[0m\u001b[0m\n",
      "\u001b[0;32m~/.local/lib/python3.6/site-packages/torch/nn/modules/module.py\u001b[0m in \u001b[0;36m__call__\u001b[0;34m(self, *input, **kwargs)\u001b[0m\n\u001b[1;32m    539\u001b[0m             \u001b[0mresult\u001b[0m \u001b[0;34m=\u001b[0m \u001b[0mself\u001b[0m\u001b[0;34m.\u001b[0m\u001b[0m_slow_forward\u001b[0m\u001b[0;34m(\u001b[0m\u001b[0;34m*\u001b[0m\u001b[0minput\u001b[0m\u001b[0;34m,\u001b[0m \u001b[0;34m**\u001b[0m\u001b[0mkwargs\u001b[0m\u001b[0;34m)\u001b[0m\u001b[0;34m\u001b[0m\u001b[0;34m\u001b[0m\u001b[0m\n\u001b[1;32m    540\u001b[0m         \u001b[0;32melse\u001b[0m\u001b[0;34m:\u001b[0m\u001b[0;34m\u001b[0m\u001b[0;34m\u001b[0m\u001b[0m\n\u001b[0;32m--> 541\u001b[0;31m             \u001b[0mresult\u001b[0m \u001b[0;34m=\u001b[0m \u001b[0mself\u001b[0m\u001b[0;34m.\u001b[0m\u001b[0mforward\u001b[0m\u001b[0;34m(\u001b[0m\u001b[0;34m*\u001b[0m\u001b[0minput\u001b[0m\u001b[0;34m,\u001b[0m \u001b[0;34m**\u001b[0m\u001b[0mkwargs\u001b[0m\u001b[0;34m)\u001b[0m\u001b[0;34m\u001b[0m\u001b[0;34m\u001b[0m\u001b[0m\n\u001b[0m\u001b[1;32m    542\u001b[0m         \u001b[0;32mfor\u001b[0m \u001b[0mhook\u001b[0m \u001b[0;32min\u001b[0m \u001b[0mself\u001b[0m\u001b[0;34m.\u001b[0m\u001b[0m_forward_hooks\u001b[0m\u001b[0;34m.\u001b[0m\u001b[0mvalues\u001b[0m\u001b[0;34m(\u001b[0m\u001b[0;34m)\u001b[0m\u001b[0;34m:\u001b[0m\u001b[0;34m\u001b[0m\u001b[0;34m\u001b[0m\u001b[0m\n\u001b[1;32m    543\u001b[0m             \u001b[0mhook_result\u001b[0m \u001b[0;34m=\u001b[0m \u001b[0mhook\u001b[0m\u001b[0;34m(\u001b[0m\u001b[0mself\u001b[0m\u001b[0;34m,\u001b[0m \u001b[0minput\u001b[0m\u001b[0;34m,\u001b[0m \u001b[0mresult\u001b[0m\u001b[0;34m)\u001b[0m\u001b[0;34m\u001b[0m\u001b[0;34m\u001b[0m\u001b[0m\n",
      "\u001b[0;32m~/.local/lib/python3.6/site-packages/torch/nn/modules/container.py\u001b[0m in \u001b[0;36mforward\u001b[0;34m(self, input)\u001b[0m\n\u001b[1;32m     90\u001b[0m     \u001b[0;32mdef\u001b[0m \u001b[0mforward\u001b[0m\u001b[0;34m(\u001b[0m\u001b[0mself\u001b[0m\u001b[0;34m,\u001b[0m \u001b[0minput\u001b[0m\u001b[0;34m)\u001b[0m\u001b[0;34m:\u001b[0m\u001b[0;34m\u001b[0m\u001b[0;34m\u001b[0m\u001b[0m\n\u001b[1;32m     91\u001b[0m         \u001b[0;32mfor\u001b[0m \u001b[0mmodule\u001b[0m \u001b[0;32min\u001b[0m \u001b[0mself\u001b[0m\u001b[0;34m.\u001b[0m\u001b[0m_modules\u001b[0m\u001b[0;34m.\u001b[0m\u001b[0mvalues\u001b[0m\u001b[0;34m(\u001b[0m\u001b[0;34m)\u001b[0m\u001b[0;34m:\u001b[0m\u001b[0;34m\u001b[0m\u001b[0;34m\u001b[0m\u001b[0m\n\u001b[0;32m---> 92\u001b[0;31m             \u001b[0minput\u001b[0m \u001b[0;34m=\u001b[0m \u001b[0mmodule\u001b[0m\u001b[0;34m(\u001b[0m\u001b[0minput\u001b[0m\u001b[0;34m)\u001b[0m\u001b[0;34m\u001b[0m\u001b[0;34m\u001b[0m\u001b[0m\n\u001b[0m\u001b[1;32m     93\u001b[0m         \u001b[0;32mreturn\u001b[0m \u001b[0minput\u001b[0m\u001b[0;34m\u001b[0m\u001b[0;34m\u001b[0m\u001b[0m\n\u001b[1;32m     94\u001b[0m \u001b[0;34m\u001b[0m\u001b[0m\n",
      "\u001b[0;32m~/.local/lib/python3.6/site-packages/torch/nn/modules/module.py\u001b[0m in \u001b[0;36m__call__\u001b[0;34m(self, *input, **kwargs)\u001b[0m\n\u001b[1;32m    539\u001b[0m             \u001b[0mresult\u001b[0m \u001b[0;34m=\u001b[0m \u001b[0mself\u001b[0m\u001b[0;34m.\u001b[0m\u001b[0m_slow_forward\u001b[0m\u001b[0;34m(\u001b[0m\u001b[0;34m*\u001b[0m\u001b[0minput\u001b[0m\u001b[0;34m,\u001b[0m \u001b[0;34m**\u001b[0m\u001b[0mkwargs\u001b[0m\u001b[0;34m)\u001b[0m\u001b[0;34m\u001b[0m\u001b[0;34m\u001b[0m\u001b[0m\n\u001b[1;32m    540\u001b[0m         \u001b[0;32melse\u001b[0m\u001b[0;34m:\u001b[0m\u001b[0;34m\u001b[0m\u001b[0;34m\u001b[0m\u001b[0m\n\u001b[0;32m--> 541\u001b[0;31m             \u001b[0mresult\u001b[0m \u001b[0;34m=\u001b[0m \u001b[0mself\u001b[0m\u001b[0;34m.\u001b[0m\u001b[0mforward\u001b[0m\u001b[0;34m(\u001b[0m\u001b[0;34m*\u001b[0m\u001b[0minput\u001b[0m\u001b[0;34m,\u001b[0m \u001b[0;34m**\u001b[0m\u001b[0mkwargs\u001b[0m\u001b[0;34m)\u001b[0m\u001b[0;34m\u001b[0m\u001b[0;34m\u001b[0m\u001b[0m\n\u001b[0m\u001b[1;32m    542\u001b[0m         \u001b[0;32mfor\u001b[0m \u001b[0mhook\u001b[0m \u001b[0;32min\u001b[0m \u001b[0mself\u001b[0m\u001b[0;34m.\u001b[0m\u001b[0m_forward_hooks\u001b[0m\u001b[0;34m.\u001b[0m\u001b[0mvalues\u001b[0m\u001b[0;34m(\u001b[0m\u001b[0;34m)\u001b[0m\u001b[0;34m:\u001b[0m\u001b[0;34m\u001b[0m\u001b[0;34m\u001b[0m\u001b[0m\n\u001b[1;32m    543\u001b[0m             \u001b[0mhook_result\u001b[0m \u001b[0;34m=\u001b[0m \u001b[0mhook\u001b[0m\u001b[0;34m(\u001b[0m\u001b[0mself\u001b[0m\u001b[0;34m,\u001b[0m \u001b[0minput\u001b[0m\u001b[0;34m,\u001b[0m \u001b[0mresult\u001b[0m\u001b[0;34m)\u001b[0m\u001b[0;34m\u001b[0m\u001b[0;34m\u001b[0m\u001b[0m\n",
      "\u001b[0;32m~/.local/lib/python3.6/site-packages/torch/nn/modules/container.py\u001b[0m in \u001b[0;36mforward\u001b[0;34m(self, input)\u001b[0m\n\u001b[1;32m     90\u001b[0m     \u001b[0;32mdef\u001b[0m \u001b[0mforward\u001b[0m\u001b[0;34m(\u001b[0m\u001b[0mself\u001b[0m\u001b[0;34m,\u001b[0m \u001b[0minput\u001b[0m\u001b[0;34m)\u001b[0m\u001b[0;34m:\u001b[0m\u001b[0;34m\u001b[0m\u001b[0;34m\u001b[0m\u001b[0m\n\u001b[1;32m     91\u001b[0m         \u001b[0;32mfor\u001b[0m \u001b[0mmodule\u001b[0m \u001b[0;32min\u001b[0m \u001b[0mself\u001b[0m\u001b[0;34m.\u001b[0m\u001b[0m_modules\u001b[0m\u001b[0;34m.\u001b[0m\u001b[0mvalues\u001b[0m\u001b[0;34m(\u001b[0m\u001b[0;34m)\u001b[0m\u001b[0;34m:\u001b[0m\u001b[0;34m\u001b[0m\u001b[0;34m\u001b[0m\u001b[0m\n\u001b[0;32m---> 92\u001b[0;31m             \u001b[0minput\u001b[0m \u001b[0;34m=\u001b[0m \u001b[0mmodule\u001b[0m\u001b[0;34m(\u001b[0m\u001b[0minput\u001b[0m\u001b[0;34m)\u001b[0m\u001b[0;34m\u001b[0m\u001b[0;34m\u001b[0m\u001b[0m\n\u001b[0m\u001b[1;32m     93\u001b[0m         \u001b[0;32mreturn\u001b[0m \u001b[0minput\u001b[0m\u001b[0;34m\u001b[0m\u001b[0;34m\u001b[0m\u001b[0m\n\u001b[1;32m     94\u001b[0m \u001b[0;34m\u001b[0m\u001b[0m\n",
      "\u001b[0;32m~/.local/lib/python3.6/site-packages/torch/nn/modules/module.py\u001b[0m in \u001b[0;36m__call__\u001b[0;34m(self, *input, **kwargs)\u001b[0m\n\u001b[1;32m    539\u001b[0m             \u001b[0mresult\u001b[0m \u001b[0;34m=\u001b[0m \u001b[0mself\u001b[0m\u001b[0;34m.\u001b[0m\u001b[0m_slow_forward\u001b[0m\u001b[0;34m(\u001b[0m\u001b[0;34m*\u001b[0m\u001b[0minput\u001b[0m\u001b[0;34m,\u001b[0m \u001b[0;34m**\u001b[0m\u001b[0mkwargs\u001b[0m\u001b[0;34m)\u001b[0m\u001b[0;34m\u001b[0m\u001b[0;34m\u001b[0m\u001b[0m\n\u001b[1;32m    540\u001b[0m         \u001b[0;32melse\u001b[0m\u001b[0;34m:\u001b[0m\u001b[0;34m\u001b[0m\u001b[0;34m\u001b[0m\u001b[0m\n\u001b[0;32m--> 541\u001b[0;31m             \u001b[0mresult\u001b[0m \u001b[0;34m=\u001b[0m \u001b[0mself\u001b[0m\u001b[0;34m.\u001b[0m\u001b[0mforward\u001b[0m\u001b[0;34m(\u001b[0m\u001b[0;34m*\u001b[0m\u001b[0minput\u001b[0m\u001b[0;34m,\u001b[0m \u001b[0;34m**\u001b[0m\u001b[0mkwargs\u001b[0m\u001b[0;34m)\u001b[0m\u001b[0;34m\u001b[0m\u001b[0;34m\u001b[0m\u001b[0m\n\u001b[0m\u001b[1;32m    542\u001b[0m         \u001b[0;32mfor\u001b[0m \u001b[0mhook\u001b[0m \u001b[0;32min\u001b[0m \u001b[0mself\u001b[0m\u001b[0;34m.\u001b[0m\u001b[0m_forward_hooks\u001b[0m\u001b[0;34m.\u001b[0m\u001b[0mvalues\u001b[0m\u001b[0;34m(\u001b[0m\u001b[0;34m)\u001b[0m\u001b[0;34m:\u001b[0m\u001b[0;34m\u001b[0m\u001b[0;34m\u001b[0m\u001b[0m\n\u001b[1;32m    543\u001b[0m             \u001b[0mhook_result\u001b[0m \u001b[0;34m=\u001b[0m \u001b[0mhook\u001b[0m\u001b[0;34m(\u001b[0m\u001b[0mself\u001b[0m\u001b[0;34m,\u001b[0m \u001b[0minput\u001b[0m\u001b[0;34m,\u001b[0m \u001b[0mresult\u001b[0m\u001b[0;34m)\u001b[0m\u001b[0;34m\u001b[0m\u001b[0;34m\u001b[0m\u001b[0m\n",
      "\u001b[0;32m~/.local/lib/python3.6/site-packages/torch/nn/modules/batchnorm.py\u001b[0m in \u001b[0;36mforward\u001b[0;34m(self, input)\u001b[0m\n\u001b[1;32m     79\u001b[0m             \u001b[0minput\u001b[0m\u001b[0;34m,\u001b[0m \u001b[0mself\u001b[0m\u001b[0;34m.\u001b[0m\u001b[0mrunning_mean\u001b[0m\u001b[0;34m,\u001b[0m \u001b[0mself\u001b[0m\u001b[0;34m.\u001b[0m\u001b[0mrunning_var\u001b[0m\u001b[0;34m,\u001b[0m \u001b[0mself\u001b[0m\u001b[0;34m.\u001b[0m\u001b[0mweight\u001b[0m\u001b[0;34m,\u001b[0m \u001b[0mself\u001b[0m\u001b[0;34m.\u001b[0m\u001b[0mbias\u001b[0m\u001b[0;34m,\u001b[0m\u001b[0;34m\u001b[0m\u001b[0;34m\u001b[0m\u001b[0m\n\u001b[1;32m     80\u001b[0m             \u001b[0mself\u001b[0m\u001b[0;34m.\u001b[0m\u001b[0mtraining\u001b[0m \u001b[0;32mor\u001b[0m \u001b[0;32mnot\u001b[0m \u001b[0mself\u001b[0m\u001b[0;34m.\u001b[0m\u001b[0mtrack_running_stats\u001b[0m\u001b[0;34m,\u001b[0m\u001b[0;34m\u001b[0m\u001b[0;34m\u001b[0m\u001b[0m\n\u001b[0;32m---> 81\u001b[0;31m             exponential_average_factor, self.eps)\n\u001b[0m\u001b[1;32m     82\u001b[0m \u001b[0;34m\u001b[0m\u001b[0m\n\u001b[1;32m     83\u001b[0m     \u001b[0;32mdef\u001b[0m \u001b[0mextra_repr\u001b[0m\u001b[0;34m(\u001b[0m\u001b[0mself\u001b[0m\u001b[0;34m)\u001b[0m\u001b[0;34m:\u001b[0m\u001b[0;34m\u001b[0m\u001b[0;34m\u001b[0m\u001b[0m\n",
      "\u001b[0;32m~/.local/lib/python3.6/site-packages/torch/nn/functional.py\u001b[0m in \u001b[0;36mbatch_norm\u001b[0;34m(input, running_mean, running_var, weight, bias, training, momentum, eps)\u001b[0m\n\u001b[1;32m   1668\u001b[0m     return torch.batch_norm(\n\u001b[1;32m   1669\u001b[0m         \u001b[0minput\u001b[0m\u001b[0;34m,\u001b[0m \u001b[0mweight\u001b[0m\u001b[0;34m,\u001b[0m \u001b[0mbias\u001b[0m\u001b[0;34m,\u001b[0m \u001b[0mrunning_mean\u001b[0m\u001b[0;34m,\u001b[0m \u001b[0mrunning_var\u001b[0m\u001b[0;34m,\u001b[0m\u001b[0;34m\u001b[0m\u001b[0;34m\u001b[0m\u001b[0m\n\u001b[0;32m-> 1670\u001b[0;31m         \u001b[0mtraining\u001b[0m\u001b[0;34m,\u001b[0m \u001b[0mmomentum\u001b[0m\u001b[0;34m,\u001b[0m \u001b[0meps\u001b[0m\u001b[0;34m,\u001b[0m \u001b[0mtorch\u001b[0m\u001b[0;34m.\u001b[0m\u001b[0mbackends\u001b[0m\u001b[0;34m.\u001b[0m\u001b[0mcudnn\u001b[0m\u001b[0;34m.\u001b[0m\u001b[0menabled\u001b[0m\u001b[0;34m\u001b[0m\u001b[0;34m\u001b[0m\u001b[0m\n\u001b[0m\u001b[1;32m   1671\u001b[0m     )\n\u001b[1;32m   1672\u001b[0m \u001b[0;34m\u001b[0m\u001b[0m\n",
      "\u001b[0;31mRuntimeError\u001b[0m: CUDA out of memory. Tried to allocate 1.65 GiB (GPU 1; 10.92 GiB total capacity; 3.71 GiB already allocated; 1.57 GiB free; 610.59 MiB cached)"
     ]
    }
   ],
   "source": [
    "dets = detect_fn(frames[0])"
   ]
  },
  {
   "cell_type": "code",
   "execution_count": 24,
   "metadata": {},
   "outputs": [],
   "source": [
    "dets = None"
   ]
  },
  {
   "cell_type": "code",
   "execution_count": null,
   "metadata": {},
   "outputs": [],
   "source": [
    "f = 0"
   ]
  },
  {
   "cell_type": "code",
   "execution_count": null,
   "metadata": {},
   "outputs": [],
   "source": [
    "frames.shape"
   ]
  },
  {
   "cell_type": "code",
   "execution_count": null,
   "metadata": {},
   "outputs": [],
   "source": [
    "print(files[idx], f)\n",
    "frame = frames[0,f]\n",
    "boxes = dets[f][:,:4]\n",
    "show_image_bbox(frame, boxes=boxes)\n",
    "\n",
    "f += 1"
   ]
  },
  {
   "cell_type": "code",
   "execution_count": null,
   "metadata": {},
   "outputs": [],
   "source": [
    "crop = crop_square(frame, boxes[0])"
   ]
  },
  {
   "cell_type": "code",
   "execution_count": null,
   "metadata": {},
   "outputs": [],
   "source": [
    "%%time\n",
    "\n",
    "num_frames = frames.shape[1]\n",
    "faces = []\n",
    "\n",
    "for i in range(num_frames):\n",
    "    for det in dets[i]:\n",
    "        face = crop_square(frames[0, i], det[:4])\n",
    "        # face = cv2.cvtColor(face, cv2.COLOR_RGB2BGR)\n",
    "        faces.append(face)\n",
    "            \n",
    "# show_images(cropped_imgs, cols=4)"
   ]
  }
 ],
 "metadata": {
  "kernelspec": {
   "display_name": "Python [conda env:kaggle] *",
   "language": "python",
   "name": "conda-env-kaggle-py"
  },
  "language_info": {
   "codemirror_mode": {
    "name": "ipython",
    "version": 3
   },
   "file_extension": ".py",
   "mimetype": "text/x-python",
   "name": "python",
   "nbconvert_exporter": "python",
   "pygments_lexer": "ipython3",
   "version": "3.6.10"
  }
 },
 "nbformat": 4,
 "nbformat_minor": 4
}
